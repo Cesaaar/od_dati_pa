{
 "cells": [
  {
   "cell_type": "markdown",
   "metadata": {},
   "source": [
    "# API dati.gov.it"
   ]
  },
  {
   "cell_type": "code",
   "execution_count": 70,
   "metadata": {
    "collapsed": true
   },
   "outputs": [],
   "source": [
    "# import libraries\n",
    "import pandas as pd\n",
    "import numpy as np"
   ]
  },
  {
   "cell_type": "markdown",
   "metadata": {},
   "source": [
    "## Lista dei Dataset Pubblicati sul sito dati.gov.it"
   ]
  },
  {
   "cell_type": "code",
   "execution_count": 34,
   "metadata": {
    "collapsed": false
   },
   "outputs": [
    {
     "data": {
      "text/plain": [
       "17829"
      ]
     },
     "execution_count": 34,
     "metadata": {},
     "output_type": "execute_result"
    }
   ],
   "source": [
    "# Recupera la lista degli Open Data\n",
    "url_list = 'http://www.dati.gov.it/api/3/action/package_list'\n",
    "df_list = pd.read_json(url_list)\n",
    "# Numero di dataset\n",
    "df_list['result'].count()"
   ]
  },
  {
   "cell_type": "markdown",
   "metadata": {},
   "source": [
    "## Check Metadati del Dataset"
   ]
  },
  {
   "cell_type": "code",
   "execution_count": 142,
   "metadata": {
    "collapsed": true
   },
   "outputs": [],
   "source": [
    "df_list_test = df_list[0:10]"
   ]
  },
  {
   "cell_type": "code",
   "execution_count": 135,
   "metadata": {
    "collapsed": true
   },
   "outputs": [],
   "source": [
    "def check_metadato_singolo(df_name):\n",
    "    url_meta = 'http://www.dati.gov.it/api/3/action/package_show?id='+df_name\n",
    "    try:\n",
    "        df_meta = pd.read_json(url_meta)\n",
    "        check = True\n",
    "    # Cattura eccezione Http 404, manca il metadato\n",
    "    except:\n",
    "        check = False\n",
    "    return check"
   ]
  },
  {
   "cell_type": "code",
   "execution_count": 150,
   "metadata": {
    "collapsed": true
   },
   "outputs": [],
   "source": [
    "def check_metadati_all(df_list):\n",
    "    l = []\n",
    "    for index, row in df_list.iterrows():\n",
    "        d = {}\n",
    "        d['name']=row['result']\n",
    "        d['check_metadati']=check_metadato_singolo(row['result'])\n",
    "        l.append(d)\n",
    "    df = pd.DataFrame.from_dict(l)\n",
    "    return df"
   ]
  },
  {
   "cell_type": "code",
   "execution_count": 151,
   "metadata": {
    "collapsed": false
   },
   "outputs": [],
   "source": [
    "df = check_metadati_all(df_list_test)"
   ]
  },
  {
   "cell_type": "code",
   "execution_count": 152,
   "metadata": {
    "collapsed": false
   },
   "outputs": [
    {
     "data": {
      "text/html": [
       "<div>\n",
       "<table border=\"1\" class=\"dataframe\">\n",
       "  <thead>\n",
       "    <tr style=\"text-align: right;\">\n",
       "      <th></th>\n",
       "      <th>check_metadati</th>\n",
       "      <th>name</th>\n",
       "    </tr>\n",
       "  </thead>\n",
       "  <tbody>\n",
       "    <tr>\n",
       "      <th>0</th>\n",
       "      <td>False</td>\n",
       "      <td>circoscrizioni</td>\n",
       "    </tr>\n",
       "    <tr>\n",
       "      <th>1</th>\n",
       "      <td>True</td>\n",
       "      <td>elezioni-amministrative-2014-eletti</td>\n",
       "    </tr>\n",
       "    <tr>\n",
       "      <th>2</th>\n",
       "      <td>True</td>\n",
       "      <td>censimento-pillole-2013</td>\n",
       "    </tr>\n",
       "    <tr>\n",
       "      <th>3</th>\n",
       "      <td>True</td>\n",
       "      <td>rilevazione-dei-prezzi-consumo</td>\n",
       "    </tr>\n",
       "    <tr>\n",
       "      <th>4</th>\n",
       "      <td>True</td>\n",
       "      <td>suoli-non-recintati</td>\n",
       "    </tr>\n",
       "  </tbody>\n",
       "</table>\n",
       "</div>"
      ],
      "text/plain": [
       "  check_metadati                                 name\n",
       "0          False                       circoscrizioni\n",
       "1           True  elezioni-amministrative-2014-eletti\n",
       "2           True              censimento-pillole-2013\n",
       "3           True       rilevazione-dei-prezzi-consumo\n",
       "4           True                  suoli-non-recintati"
      ]
     },
     "execution_count": 152,
     "metadata": {},
     "output_type": "execute_result"
    }
   ],
   "source": [
    "# Se False vuol dire che i Metadati sono assenti\n",
    "df.head()"
   ]
  },
  {
   "cell_type": "markdown",
   "metadata": {},
   "source": [
    "## Get Metadati"
   ]
  },
  {
   "cell_type": "code",
   "execution_count": 153,
   "metadata": {
    "collapsed": true
   },
   "outputs": [],
   "source": [
    "# Se metadato presente allora lo recupero\n",
    "def get_metadati(df_name):\n",
    "    url_meta = 'http://www.dati.gov.it/api/3/action/package_show?id='+df_name\n",
    "    try:\n",
    "        df_meta = pd.read_json(url_meta)\n",
    "        metadati = df_meta['result']\n",
    "    # Cattura eccezione Http 404, manca il metadato\n",
    "    except:\n",
    "        metadati = np.nan\n",
    "    return metadati"
   ]
  },
  {
   "cell_type": "code",
   "execution_count": 154,
   "metadata": {
    "collapsed": true
   },
   "outputs": [],
   "source": [
    "def get_resource(metadato):\n",
    "    res = np.nan\n",
    "    if 'resources' in metadato:\n",
    "        if(metadato['resources'][-1]['mimetype']=='csv'):\n",
    "            res = metadato['resources'][-1]\n",
    "    return res"
   ]
  },
  {
   "cell_type": "code",
   "execution_count": 155,
   "metadata": {
    "collapsed": false
   },
   "outputs": [
    {
     "data": {
      "text/plain": [
       "{'created': '',\n",
       " 'description': '',\n",
       " 'format': 'csv',\n",
       " 'id': '1f259a9c-7ddd-4383-954a-8370a063c189',\n",
       " 'last_modified': '',\n",
       " 'mimetype': 'csv',\n",
       " 'name': '2013-02-13T140538/organico.csv',\n",
       " 'resource_group_id': '3dfbcaa7-ff9a-4853-b041-54310ea4b73e',\n",
       " 'revision_id': '',\n",
       " 'revision_timestamp': 'Mercoledì 12 Aprile 2017',\n",
       " 'size': '',\n",
       " 'state': 'Active',\n",
       " 'url': 'http://opendata.comune.bari.it/dataset/e334d4a1-ef8a-412f-8431-d5c68c74e88f/resource/9a75b69a-f3a8-4f8b-ba8b-f8c4cf465fdb/download/20130213t140538organico.csv'}"
      ]
     },
     "execution_count": 155,
     "metadata": {},
     "output_type": "execute_result"
    }
   ],
   "source": [
    "s = get_metadati(df_list['result'][7])\n",
    "r = get_resource(s)\n",
    "r"
   ]
  },
  {
   "cell_type": "markdown",
   "metadata": {},
   "source": [
    "## Get Dataset from Url"
   ]
  },
  {
   "cell_type": "code",
   "execution_count": 158,
   "metadata": {
    "collapsed": false
   },
   "outputs": [],
   "source": [
    "df = pd.read_csv(r['url'])"
   ]
  },
  {
   "cell_type": "code",
   "execution_count": 159,
   "metadata": {
    "collapsed": false
   },
   "outputs": [
    {
     "data": {
      "text/html": [
       "<div>\n",
       "<table border=\"1\" class=\"dataframe\">\n",
       "  <thead>\n",
       "    <tr style=\"text-align: right;\">\n",
       "      <th></th>\n",
       "      <th>cognome</th>\n",
       "      <th>nome</th>\n",
       "      <th>UFFICIO</th>\n",
       "      <th>PROFILO</th>\n",
       "    </tr>\n",
       "  </thead>\n",
       "  <tbody>\n",
       "    <tr>\n",
       "      <th>0</th>\n",
       "      <td>ABBATANTUONO</td>\n",
       "      <td>VITO</td>\n",
       "      <td>3^Circoscrizione</td>\n",
       "      <td>Dirigente Amministrativo</td>\n",
       "    </tr>\n",
       "    <tr>\n",
       "      <th>1</th>\n",
       "      <td>ABBATICCHIO</td>\n",
       "      <td>ROBERTO</td>\n",
       "      <td>Segreteria Generale-Informazioni</td>\n",
       "      <td>Esecutore Informatore-Notificatore</td>\n",
       "    </tr>\n",
       "  </tbody>\n",
       "</table>\n",
       "</div>"
      ],
      "text/plain": [
       "        cognome     nome                           UFFICIO  \\\n",
       "0  ABBATANTUONO     VITO                  3^Circoscrizione   \n",
       "1   ABBATICCHIO  ROBERTO  Segreteria Generale-Informazioni   \n",
       "\n",
       "                              PROFILO  \n",
       "0            Dirigente Amministrativo  \n",
       "1  Esecutore Informatore-Notificatore  "
      ]
     },
     "execution_count": 159,
     "metadata": {},
     "output_type": "execute_result"
    }
   ],
   "source": [
    "df.head(2)"
   ]
  }
 ],
 "metadata": {
  "kernelspec": {
   "display_name": "Python 3",
   "language": "python",
   "name": "python3"
  },
  "language_info": {
   "codemirror_mode": {
    "name": "ipython",
    "version": 3
   },
   "file_extension": ".py",
   "mimetype": "text/x-python",
   "name": "python",
   "nbconvert_exporter": "python",
   "pygments_lexer": "ipython3",
   "version": "3.6.0"
  }
 },
 "nbformat": 4,
 "nbformat_minor": 2
}
