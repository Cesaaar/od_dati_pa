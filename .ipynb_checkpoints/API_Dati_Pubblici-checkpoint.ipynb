{
 "cells": [
  {
   "cell_type": "code",
   "execution_count": 168,
   "metadata": {
    "collapsed": true
   },
   "outputs": [],
   "source": [
    "import sys\n",
    "reload(sys)\n",
    "sys.setdefaultencoding(\"latin-1\")"
   ]
  },
  {
   "cell_type": "markdown",
   "metadata": {},
   "source": [
    "# API dati.gov.it"
   ]
  },
  {
   "cell_type": "code",
   "execution_count": 163,
   "metadata": {
    "collapsed": true
   },
   "outputs": [],
   "source": [
    "\n",
    "# import libraries\n",
    "import pandas as pd\n",
    "import numpy as np"
   ]
  },
  {
   "cell_type": "markdown",
   "metadata": {},
   "source": [
    "## Lista dei Dataset Pubblicati sul sito dati.gov.it"
   ]
  },
  {
   "cell_type": "code",
   "execution_count": 164,
   "metadata": {
    "collapsed": false
   },
   "outputs": [
    {
     "data": {
      "text/plain": [
       "17974"
      ]
     },
     "execution_count": 164,
     "metadata": {},
     "output_type": "execute_result"
    }
   ],
   "source": [
    "# Recupera la lista degli Open Data\n",
    "url_list = 'http://www.dati.gov.it/api/3/action/package_list'\n",
    "df_list = pd.read_json(url_list)\n",
    "# Numero di dataset\n",
    "df_list['result'].count()"
   ]
  },
  {
   "cell_type": "markdown",
   "metadata": {},
   "source": [
    "## Dataset dei Metadati"
   ]
  },
  {
   "cell_type": "code",
   "execution_count": 196,
   "metadata": {
    "collapsed": true
   },
   "outputs": [],
   "source": [
    "df_list_test = df_list[0:4]"
   ]
  },
  {
   "cell_type": "code",
   "execution_count": 231,
   "metadata": {
    "collapsed": false
   },
   "outputs": [
    {
     "data": {
      "text/html": [
       "<div>\n",
       "<style>\n",
       "    .dataframe thead tr:only-child th {\n",
       "        text-align: right;\n",
       "    }\n",
       "\n",
       "    .dataframe thead th {\n",
       "        text-align: left;\n",
       "    }\n",
       "\n",
       "    .dataframe tbody tr th {\n",
       "        vertical-align: top;\n",
       "    }\n",
       "</style>\n",
       "<table border=\"1\" class=\"dataframe\">\n",
       "  <thead>\n",
       "    <tr style=\"text-align: right;\">\n",
       "      <th></th>\n",
       "      <th>help</th>\n",
       "      <th>result</th>\n",
       "      <th>success</th>\n",
       "    </tr>\n",
       "  </thead>\n",
       "  <tbody>\n",
       "    <tr>\n",
       "      <th>_catalog_parent_name</th>\n",
       "      <td>Return the metadata of a dataset (package) and...</td>\n",
       "      <td>Comune di Bari</td>\n",
       "      <td>True</td>\n",
       "    </tr>\n",
       "    <tr>\n",
       "      <th>_catalog_source_url</th>\n",
       "      <td>Return the metadata of a dataset (package) and...</td>\n",
       "      <td>http://opendata.comune.bari.it/api/3/action/pa...</td>\n",
       "      <td>True</td>\n",
       "    </tr>\n",
       "  </tbody>\n",
       "</table>\n",
       "</div>"
      ],
      "text/plain": [
       "                                                                   help  \\\n",
       "_catalog_parent_name  Return the metadata of a dataset (package) and...   \n",
       "_catalog_source_url   Return the metadata of a dataset (package) and...   \n",
       "\n",
       "                                                                 result  \\\n",
       "_catalog_parent_name                                     Comune di Bari   \n",
       "_catalog_source_url   http://opendata.comune.bari.it/api/3/action/pa...   \n",
       "\n",
       "                      success  \n",
       "_catalog_parent_name     True  \n",
       "_catalog_source_url      True  "
      ]
     },
     "execution_count": 231,
     "metadata": {},
     "output_type": "execute_result"
    }
   ],
   "source": [
    "url_test = 'http://www.dati.gov.it/api/3/action/package_show?id='+df_list_test['result'][2]\n",
    "df_meta = pd.read_json(url_test,encoding='unicode')\n",
    "df_meta.head(2)"
   ]
  },
  {
   "cell_type": "code",
   "execution_count": 191,
   "metadata": {
    "collapsed": false
   },
   "outputs": [
    {
     "data": {
      "text/plain": [
       "u'Popolazione e societ\\xe0'"
      ]
     },
     "execution_count": 191,
     "metadata": {},
     "output_type": "execute_result"
    }
   ],
   "source": [
    "import HTMLParser\n",
    "HTMLParser.HTMLParser().unescape(df_meta['result']['extras'][1]['value'])"
   ]
  },
  {
   "cell_type": "code",
   "execution_count": 218,
   "metadata": {
    "collapsed": false
   },
   "outputs": [
    {
     "data": {
      "text/plain": [
       "{u'created': u'',\n",
       " u'description': u'<p>Il Censimento 2013 in pillole</p>\\n',\n",
       " u'format': u'zip',\n",
       " u'id': u'384e4099-5cce-43e9-a8b4-95876de7cad1',\n",
       " u'last_modified': u'',\n",
       " u'mimetype': u'zip',\n",
       " u'name': u'2013-12-23T135723/il-censimento-2013-in-pillole.zip',\n",
       " u'resource_group_id': u'3dfbcaa7-ff9a-4853-b041-54310ea4b73e',\n",
       " u'revision_id': u'',\n",
       " u'revision_timestamp': u'Luned\\xec 04 Settembre 2017',\n",
       " u'size': u'',\n",
       " u'state': u'Active',\n",
       " u'url': u'http://opendata.comune.bari.it/dataset/481853e2-e736-4189-9bef-0629d5c17df9/resource/4e2fcdef-044e-44b9-813a-fdd951a99517/download/20131223t135723materialeperlapubblicazione.zip'}"
      ]
     },
     "execution_count": 218,
     "metadata": {},
     "output_type": "execute_result"
    }
   ],
   "source": [
    "df_meta['result']['resources'][-1]['url']"
   ]
  },
  {
   "cell_type": "code",
   "execution_count": 232,
   "metadata": {
    "collapsed": false
   },
   "outputs": [],
   "source": [
    "def crea_df_metadato(df_name):\n",
    "    url_meta = 'http://www.dati.gov.it/api/3/action/package_show?id='+df_name\n",
    "    d = {}\n",
    "    try:\n",
    "        df_meta = pd.read_json(url_meta)\n",
    "        d['ds_name']=df_name\n",
    "        d['ds_title'] = df_meta['result']['title']\n",
    "        d['ds_id'] = df_meta['result']['id']\n",
    "        d['ds_license'] = df_meta['result']['license_id']\n",
    "        d['_catalog_parent_name']=df_meta['result']['_catalog_parent_name']\n",
    "        d['ultima_modifica']=df_meta['result']['extras'][1]['value']\n",
    "        d['gruppo'] = df_meta['result']['groups'][0]['display_name']\n",
    "        d['note'] = df_meta['result']['notes']\n",
    "        if 'resources' in df_meta['result']:\n",
    "            d['url']=df_meta['result']['resources'][-1]['url']\n",
    "            d['mymtype']=df_meta['result']['resources'][-1]['mimetype']\n",
    "        else:\n",
    "            d['url'] = np.nan\n",
    "            d['mymtype'] = np.nan\n",
    "    except:\n",
    "        d['ds_name']=df_name\n",
    "        d['ds_title'] = np.nan\n",
    "        d['ds_id'] = np.nan\n",
    "        d['ds_license'] = np.nan\n",
    "        d['_catalog_parent_name']=np.nan\n",
    "        d['ultima_modifica'] = np.nan\n",
    "        d['gruppo'] = np.nan\n",
    "        d['note'] = np.nan\n",
    "        d['url'] = np.nan\n",
    "        d['mymtype'] = np.nan\n",
    "    return d"
   ]
  },
  {
   "cell_type": "code",
   "execution_count": 233,
   "metadata": {
    "collapsed": true
   },
   "outputs": [],
   "source": [
    "def crea_df_metadati_all(df_list):\n",
    "    l = []\n",
    "    for index, row in df_list.iterrows():\n",
    "        l.append(crea_df_metadato(row['result']))\n",
    "    df = pd.DataFrame.from_dict(l)\n",
    "    return df"
   ]
  },
  {
   "cell_type": "code",
   "execution_count": 234,
   "metadata": {
    "collapsed": false
   },
   "outputs": [],
   "source": [
    "df = crea_df_metadati_all(df_list_test)\n",
    "cols = ['ds_title','_catalog_parent_name','gruppo','note','ultima_modifica',\n",
    "       'ds_name','ds_id','ds_license','url','mymtype']\n",
    "df = df[cols]"
   ]
  },
  {
   "cell_type": "code",
   "execution_count": 235,
   "metadata": {
    "collapsed": false
   },
   "outputs": [
    {
     "data": {
      "text/html": [
       "<div>\n",
       "<style>\n",
       "    .dataframe thead tr:only-child th {\n",
       "        text-align: right;\n",
       "    }\n",
       "\n",
       "    .dataframe thead th {\n",
       "        text-align: left;\n",
       "    }\n",
       "\n",
       "    .dataframe tbody tr th {\n",
       "        vertical-align: top;\n",
       "    }\n",
       "</style>\n",
       "<table border=\"1\" class=\"dataframe\">\n",
       "  <thead>\n",
       "    <tr style=\"text-align: right;\">\n",
       "      <th></th>\n",
       "      <th>ds_title</th>\n",
       "      <th>_catalog_parent_name</th>\n",
       "      <th>gruppo</th>\n",
       "      <th>note</th>\n",
       "      <th>ultima_modifica</th>\n",
       "      <th>ds_name</th>\n",
       "      <th>ds_id</th>\n",
       "      <th>ds_license</th>\n",
       "      <th>url</th>\n",
       "      <th>mymtype</th>\n",
       "    </tr>\n",
       "  </thead>\n",
       "  <tbody>\n",
       "    <tr>\n",
       "      <th>0</th>\n",
       "      <td>NaN</td>\n",
       "      <td>NaN</td>\n",
       "      <td>NaN</td>\n",
       "      <td>NaN</td>\n",
       "      <td>NaN</td>\n",
       "      <td>circoscrizioni</td>\n",
       "      <td>NaN</td>\n",
       "      <td>NaN</td>\n",
       "      <td>NaN</td>\n",
       "      <td>NaN</td>\n",
       "    </tr>\n",
       "    <tr>\n",
       "      <th>1</th>\n",
       "      <td>Elezioni Amministrative 2014 - Eletti</td>\n",
       "      <td>Comune di Bari</td>\n",
       "      <td>Popolazione e società</td>\n",
       "      <td>&lt;p&gt;Gli eletti delle Amministrative  e Municipi...</td>\n",
       "      <td>&amp;quot;16.06.2014&amp;quot;</td>\n",
       "      <td>elezioni-amministrative-2014-eletti</td>\n",
       "      <td>ebad7b1c-ca8c-4dda-ac1f-a9f550e8fac6</td>\n",
       "      <td>CC0 1.0</td>\n",
       "      <td>NaN</td>\n",
       "      <td>NaN</td>\n",
       "    </tr>\n",
       "    <tr>\n",
       "      <th>2</th>\n",
       "      <td>Censimento in pillole 2013</td>\n",
       "      <td>Comune di Bari</td>\n",
       "      <td>Popolazione e società</td>\n",
       "      <td>&lt;p&gt;Il Censimento 2013 in pillole&lt;/p&gt;\\n</td>\n",
       "      <td>&amp;quot;Dicembre 2013&amp;quot;</td>\n",
       "      <td>censimento-pillole-2013</td>\n",
       "      <td>481853e2-e736-4189-9bef-0629d5c17df9</td>\n",
       "      <td>CC0 1.0</td>\n",
       "      <td>http://opendata.comune.bari.it/dataset/481853e...</td>\n",
       "      <td>zip</td>\n",
       "    </tr>\n",
       "    <tr>\n",
       "      <th>3</th>\n",
       "      <td>Rilevazione dei prezzi al consumo</td>\n",
       "      <td>Comune di Bari</td>\n",
       "      <td>Popolazione e società</td>\n",
       "      <td>&lt;p&gt;Rilevazione dei prezzi al consumo del Comun...</td>\n",
       "      <td>&amp;quot;Gennaio 2013&amp;quot;</td>\n",
       "      <td>rilevazione-dei-prezzi-consumo</td>\n",
       "      <td>2ab37d6e-e71e-4420-bd76-ae1c0a19e0c1</td>\n",
       "      <td>CC0 1.0</td>\n",
       "      <td>http://opendata.comune.bari.it/dataset/2ab37d6...</td>\n",
       "      <td>csv</td>\n",
       "    </tr>\n",
       "  </tbody>\n",
       "</table>\n",
       "</div>"
      ],
      "text/plain": [
       "                                ds_title _catalog_parent_name  \\\n",
       "0                                    NaN                  NaN   \n",
       "1  Elezioni Amministrative 2014 - Eletti       Comune di Bari   \n",
       "2             Censimento in pillole 2013       Comune di Bari   \n",
       "3      Rilevazione dei prezzi al consumo       Comune di Bari   \n",
       "\n",
       "                  gruppo                                               note  \\\n",
       "0                    NaN                                                NaN   \n",
       "1  Popolazione e societ├á  <p>Gli eletti delle Amministrative  e Municipi...   \n",
       "2  Popolazione e societ├á             <p>Il Censimento 2013 in pillole</p>\\n   \n",
       "3  Popolazione e societ├á  <p>Rilevazione dei prezzi al consumo del Comun...   \n",
       "\n",
       "             ultima_modifica                              ds_name  \\\n",
       "0                        NaN                       circoscrizioni   \n",
       "1     &quot;16.06.2014&quot;  elezioni-amministrative-2014-eletti   \n",
       "2  &quot;Dicembre 2013&quot;              censimento-pillole-2013   \n",
       "3   &quot;Gennaio 2013&quot;       rilevazione-dei-prezzi-consumo   \n",
       "\n",
       "                                  ds_id ds_license  \\\n",
       "0                                   NaN        NaN   \n",
       "1  ebad7b1c-ca8c-4dda-ac1f-a9f550e8fac6    CC0 1.0   \n",
       "2  481853e2-e736-4189-9bef-0629d5c17df9    CC0 1.0   \n",
       "3  2ab37d6e-e71e-4420-bd76-ae1c0a19e0c1    CC0 1.0   \n",
       "\n",
       "                                                 url mymtype  \n",
       "0                                                NaN     NaN  \n",
       "1                                                NaN     NaN  \n",
       "2  http://opendata.comune.bari.it/dataset/481853e...     zip  \n",
       "3  http://opendata.comune.bari.it/dataset/2ab37d6...     csv  "
      ]
     },
     "execution_count": 235,
     "metadata": {},
     "output_type": "execute_result"
    }
   ],
   "source": [
    "df.head()"
   ]
  },
  {
   "cell_type": "markdown",
   "metadata": {},
   "source": [
    "## Get Dataset from Url"
   ]
  },
  {
   "cell_type": "code",
   "execution_count": 158,
   "metadata": {
    "collapsed": false
   },
   "outputs": [],
   "source": [
    "df = pd.read_csv(r['url'])"
   ]
  },
  {
   "cell_type": "code",
   "execution_count": 159,
   "metadata": {
    "collapsed": false
   },
   "outputs": [
    {
     "data": {
      "text/html": [
       "<div>\n",
       "<table border=\"1\" class=\"dataframe\">\n",
       "  <thead>\n",
       "    <tr style=\"text-align: right;\">\n",
       "      <th></th>\n",
       "      <th>cognome</th>\n",
       "      <th>nome</th>\n",
       "      <th>UFFICIO</th>\n",
       "      <th>PROFILO</th>\n",
       "    </tr>\n",
       "  </thead>\n",
       "  <tbody>\n",
       "    <tr>\n",
       "      <th>0</th>\n",
       "      <td>ABBATANTUONO</td>\n",
       "      <td>VITO</td>\n",
       "      <td>3^Circoscrizione</td>\n",
       "      <td>Dirigente Amministrativo</td>\n",
       "    </tr>\n",
       "    <tr>\n",
       "      <th>1</th>\n",
       "      <td>ABBATICCHIO</td>\n",
       "      <td>ROBERTO</td>\n",
       "      <td>Segreteria Generale-Informazioni</td>\n",
       "      <td>Esecutore Informatore-Notificatore</td>\n",
       "    </tr>\n",
       "  </tbody>\n",
       "</table>\n",
       "</div>"
      ],
      "text/plain": [
       "        cognome     nome                           UFFICIO  \\\n",
       "0  ABBATANTUONO     VITO                  3^Circoscrizione   \n",
       "1   ABBATICCHIO  ROBERTO  Segreteria Generale-Informazioni   \n",
       "\n",
       "                              PROFILO  \n",
       "0            Dirigente Amministrativo  \n",
       "1  Esecutore Informatore-Notificatore  "
      ]
     },
     "execution_count": 159,
     "metadata": {},
     "output_type": "execute_result"
    }
   ],
   "source": [
    "df.head(2)"
   ]
  }
 ],
 "metadata": {
  "anaconda-cloud": {},
  "kernelspec": {
   "display_name": "Python [Root]",
   "language": "python",
   "name": "Python [Root]"
  },
  "language_info": {
   "codemirror_mode": {
    "name": "ipython",
    "version": 2
   },
   "file_extension": ".py",
   "mimetype": "text/x-python",
   "name": "python",
   "nbconvert_exporter": "python",
   "pygments_lexer": "ipython2",
   "version": "2.7.12"
  }
 },
 "nbformat": 4,
 "nbformat_minor": 2
}
