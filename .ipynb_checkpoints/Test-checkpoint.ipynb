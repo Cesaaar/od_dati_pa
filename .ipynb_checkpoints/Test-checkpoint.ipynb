{
 "cells": [
  {
   "cell_type": "markdown",
   "metadata": {},
   "source": [
    "# Test API dati.gov.it"
   ]
  },
  {
   "cell_type": "code",
   "execution_count": 1,
   "metadata": {
    "collapsed": true
   },
   "outputs": [],
   "source": [
    "# import libraries\n",
    "import pandas as pd"
   ]
  },
  {
   "cell_type": "code",
   "execution_count": 7,
   "metadata": {
    "collapsed": false
   },
   "outputs": [
    {
     "data": {
      "text/plain": [
       "17829"
      ]
     },
     "execution_count": 7,
     "metadata": {},
     "output_type": "execute_result"
    }
   ],
   "source": [
    "# package list\n",
    "url_list = 'http://www.dati.gov.it/api/3/action/package_list'\n",
    "df = pd.read_json(url_list)\n",
    "# Numero di dataset\n",
    "df['result'].count()"
   ]
  },
  {
   "cell_type": "code",
   "execution_count": 26,
   "metadata": {
    "collapsed": false
   },
   "outputs": [
    {
     "data": {
      "text/plain": [
       "'rilevazione-dei-prezzi-consumo'"
      ]
     },
     "execution_count": 26,
     "metadata": {},
     "output_type": "execute_result"
    }
   ],
   "source": [
    "# Dataset\n",
    "# sul 0° dataset circoscrizioni mancano i metadati..\n",
    "# Sul 1° manca la url\n",
    "# Il 2° è uno zip\n",
    "ds_test = df['result'][3]\n",
    "ds_test"
   ]
  },
  {
   "cell_type": "code",
   "execution_count": 33,
   "metadata": {
    "collapsed": false
   },
   "outputs": [
    {
     "data": {
      "text/plain": [
       "_catalog_parent_name                                       Comune di Bari\n",
       "_catalog_source_url     http://opendata.comune.bari.it/api/3/action/pa...\n",
       "author_email                                pos.statistica@comune.bari.it\n",
       "creator_user_id                      9bcba160-349c-4d14-8a53-d4168349d053\n",
       "extras                  [{'key': 'Data di creazione', 'value': '&quot;...\n",
       "groups                  [{'display_name': 'Popolazione e società', 'de...\n",
       "id                                   2ab37d6e-e71e-4420-bd76-ae1c0a19e0c1\n",
       "license_id                                                        CC0 1.0\n",
       "license_url             https://creativecommons.org/publicdomain/zero/...\n",
       "log_message             Update to resource '2013-02-21T105052/Anticipa...\n",
       "maintainer_email                            pos.statistica@comune.bari.it\n",
       "metadata_created                                2014-11-12T17:14:16+01:00\n",
       "metadata_modified                               2014-12-17T11:34:15+01:00\n",
       "name                                       rilevazione-dei-prezzi-consumo\n",
       "notes                   <p>Rilevazione dei prezzi al consumo del Comun...\n",
       "organization            [{'title': 'Comune di Bari', 'description': ''...\n",
       "resources               [{'id': 'efb7c73f-f1d3-4a96-b0a0-5f9ca7c5f19c'...\n",
       "revision_timestamp                              2017-03-02T16:31:37+01:00\n",
       "state                                                              Active\n",
       "tags                    [{'id': '80d83d5b-24a1-46ba-a93b-ba44e141e3d2'...\n",
       "title                                   Rilevazione dei prezzi al consumo\n",
       "type                                                              Dataset\n",
       "Name: result, dtype: object"
      ]
     },
     "execution_count": 33,
     "metadata": {},
     "output_type": "execute_result"
    }
   ],
   "source": [
    "# metadati\n",
    "url_meta = 'http://www.dati.gov.it/api/3/action/package_show?id='+ds_test\n",
    "df_meta = pd.read_json(url_meta)\n",
    "df_meta['result']"
   ]
  },
  {
   "cell_type": "code",
   "execution_count": 28,
   "metadata": {
    "collapsed": false
   },
   "outputs": [
    {
     "data": {
      "text/plain": [
       "[{'created': '',\n",
       "  'description': '',\n",
       "  'format': 'csv',\n",
       "  'id': 'efb7c73f-f1d3-4a96-b0a0-5f9ca7c5f19c',\n",
       "  'last_modified': '',\n",
       "  'mimetype': 'csv',\n",
       "  'name': '2013-02-21T105052/Anticipazione-NIC.csv',\n",
       "  'resource_group_id': '3dfbcaa7-ff9a-4853-b041-54310ea4b73e',\n",
       "  'revision_id': '',\n",
       "  'revision_timestamp': 'Mercoledì 22 Febbraio 2017',\n",
       "  'size': '',\n",
       "  'state': 'Active',\n",
       "  'url': 'http://opendata.comune.bari.it/dataset/2ab37d6e-e71e-4420-bd76-ae1c0a19e0c1/resource/e19cc60b-9fd9-48d5-9894-6d31c3f1711a/download/20130221t105052anticipazionenic.csv'}]"
      ]
     },
     "execution_count": 28,
     "metadata": {},
     "output_type": "execute_result"
    }
   ],
   "source": [
    "#Url del dataset\n",
    "df_meta['result']['resources']"
   ]
  },
  {
   "cell_type": "code",
   "execution_count": 30,
   "metadata": {
    "collapsed": false
   },
   "outputs": [],
   "source": [
    "df = pd.read_csv(df_meta['result']['resources'][0]['url'])"
   ]
  },
  {
   "cell_type": "code",
   "execution_count": 31,
   "metadata": {
    "collapsed": false
   },
   "outputs": [
    {
     "data": {
      "text/html": [
       "<div>\n",
       "<table border=\"1\" class=\"dataframe\">\n",
       "  <thead>\n",
       "    <tr style=\"text-align: right;\">\n",
       "      <th></th>\n",
       "      <th>Sintesi</th>\n",
       "      <th>Descrizione</th>\n",
       "      <th>Var. A.P.</th>\n",
       "      <th>Var. M.</th>\n",
       "    </tr>\n",
       "  </thead>\n",
       "  <tbody>\n",
       "    <tr>\n",
       "      <th>0</th>\n",
       "      <td>Gen</td>\n",
       "      <td>Complessivo</td>\n",
       "      <td>2.3</td>\n",
       "      <td>0.3</td>\n",
       "    </tr>\n",
       "    <tr>\n",
       "      <th>1</th>\n",
       "      <td>Div.</td>\n",
       "      <td>Prodotti alimentari e bevande analcoliche</td>\n",
       "      <td>2.9</td>\n",
       "      <td>0.8</td>\n",
       "    </tr>\n",
       "  </tbody>\n",
       "</table>\n",
       "</div>"
      ],
      "text/plain": [
       "  Sintesi                                Descrizione Var. A.P. Var. M.\n",
       "0     Gen                                Complessivo       2.3     0.3\n",
       "1    Div.  Prodotti alimentari e bevande analcoliche       2.9     0.8"
      ]
     },
     "execution_count": 31,
     "metadata": {},
     "output_type": "execute_result"
    }
   ],
   "source": [
    "df.head(2)"
   ]
  }
 ],
 "metadata": {
  "kernelspec": {
   "display_name": "Python 3",
   "language": "python",
   "name": "python3"
  },
  "language_info": {
   "codemirror_mode": {
    "name": "ipython",
    "version": 3
   },
   "file_extension": ".py",
   "mimetype": "text/x-python",
   "name": "python",
   "nbconvert_exporter": "python",
   "pygments_lexer": "ipython3",
   "version": "3.6.0"
  }
 },
 "nbformat": 4,
 "nbformat_minor": 2
}
