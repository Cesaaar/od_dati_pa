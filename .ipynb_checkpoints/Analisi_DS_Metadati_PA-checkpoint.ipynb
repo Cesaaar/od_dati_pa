{
 "cells": [
  {
   "cell_type": "markdown",
   "metadata": {},
   "source": [
    "# Analisi dei Metadati dei Dataset della PA\n",
    "\n",
    "To Do - API_Dati_Pubblici\n",
    "1. Verifica i DS senza Metadati\n",
    "2. Implementa funzione in API_Dati_Pubblici che recupera in ordine di importanza le resources con un certo mymetype sulla base del machine-readble, nel seguente ordine: json, rdf, xml, csv,xls, altrimenti quello che c'è\n",
    "3. Schedula scarico mensile e ingestion, oppure automatizza tweet con un grafico\n",
    "\n",
    "To Do - Analisi DS\n",
    "1. Numero Dataset\n",
    "2. Numero Dataset senza metadati\n",
    "3. Group by Catalogo -> Bar chart\n",
    "4. Group by Gruppo -> Bar Chart\n",
    "5. Group by Ultima Modifica -> Time series chart\n",
    "6. Word Cloud su Titolo -> vedi incident\n",
    "7. Word Cloud su Notes -> vedi incident"
   ]
  },
  {
   "cell_type": "code",
   "execution_count": 57,
   "metadata": {},
   "outputs": [
    {
     "name": "stdout",
     "output_type": "stream",
     "text": [
      "Populating the interactive namespace from numpy and matplotlib\n"
     ]
    }
   ],
   "source": [
    "import pandas as pd\n",
    "import numpy as np\n",
    "import matplotlib.pyplot as plt\n",
    "plt.style.use('ggplot')\n",
    "get_ipython().magic('pylab inline')"
   ]
  },
  {
   "cell_type": "code",
   "execution_count": 10,
   "metadata": {},
   "outputs": [],
   "source": [
    "df = pd.read_csv('2017-10-17_DSMetadatiPA.csv', delimiter=';')"
   ]
  },
  {
   "cell_type": "markdown",
   "metadata": {},
   "source": [
    "### 1. Numero Dataset PA"
   ]
  },
  {
   "cell_type": "code",
   "execution_count": 19,
   "metadata": {},
   "outputs": [
    {
     "data": {
      "text/plain": [
       "18165"
      ]
     },
     "execution_count": 19,
     "metadata": {},
     "output_type": "execute_result"
    }
   ],
   "source": [
    "df['ds_name'].count()"
   ]
  },
  {
   "cell_type": "markdown",
   "metadata": {},
   "source": [
    "### 2. Numero Dataset PA senza Metadati"
   ]
  },
  {
   "cell_type": "code",
   "execution_count": 20,
   "metadata": {},
   "outputs": [
    {
     "data": {
      "text/plain": [
       "5042"
      ]
     },
     "execution_count": 20,
     "metadata": {},
     "output_type": "execute_result"
    }
   ],
   "source": [
    "df[pd.isnull(df['ds_title'])]['ds_name'].count()"
   ]
  },
  {
   "cell_type": "code",
   "execution_count": 17,
   "metadata": {},
   "outputs": [
    {
     "data": {
      "text/html": [
       "<div>\n",
       "<style>\n",
       "    .dataframe thead tr:only-child th {\n",
       "        text-align: right;\n",
       "    }\n",
       "\n",
       "    .dataframe thead th {\n",
       "        text-align: left;\n",
       "    }\n",
       "\n",
       "    .dataframe tbody tr th {\n",
       "        vertical-align: top;\n",
       "    }\n",
       "</style>\n",
       "<table border=\"1\" class=\"dataframe\">\n",
       "  <thead>\n",
       "    <tr style=\"text-align: right;\">\n",
       "      <th></th>\n",
       "      <th>Unnamed: 0</th>\n",
       "      <th>ds_title</th>\n",
       "      <th>_catalog_parent_name</th>\n",
       "      <th>gruppo</th>\n",
       "      <th>note</th>\n",
       "      <th>ultima_modifica</th>\n",
       "      <th>ds_name</th>\n",
       "      <th>ds_id</th>\n",
       "      <th>ds_license</th>\n",
       "      <th>url</th>\n",
       "      <th>mymtype</th>\n",
       "    </tr>\n",
       "  </thead>\n",
       "  <tbody>\n",
       "    <tr>\n",
       "      <th>18054</th>\n",
       "      <td>18054</td>\n",
       "      <td>NaN</td>\n",
       "      <td>NaN</td>\n",
       "      <td>NaN</td>\n",
       "      <td>NaN</td>\n",
       "      <td>NaN</td>\n",
       "      <td>anpil</td>\n",
       "      <td>NaN</td>\n",
       "      <td>NaN</td>\n",
       "      <td>NaN</td>\n",
       "      <td>NaN</td>\n",
       "    </tr>\n",
       "    <tr>\n",
       "      <th>18102</th>\n",
       "      <td>18102</td>\n",
       "      <td>NaN</td>\n",
       "      <td>NaN</td>\n",
       "      <td>NaN</td>\n",
       "      <td>NaN</td>\n",
       "      <td>NaN</td>\n",
       "      <td>camp-italy-area-1-linea-riva-giugno-2016-armon...</td>\n",
       "      <td>NaN</td>\n",
       "      <td>NaN</td>\n",
       "      <td>NaN</td>\n",
       "      <td>NaN</td>\n",
       "    </tr>\n",
       "    <tr>\n",
       "      <th>18130</th>\n",
       "      <td>18130</td>\n",
       "      <td>NaN</td>\n",
       "      <td>NaN</td>\n",
       "      <td>NaN</td>\n",
       "      <td>NaN</td>\n",
       "      <td>NaN</td>\n",
       "      <td>camp-italy-area-1-linea-riva-maggio-2016-armon...</td>\n",
       "      <td>NaN</td>\n",
       "      <td>NaN</td>\n",
       "      <td>NaN</td>\n",
       "      <td>NaN</td>\n",
       "    </tr>\n",
       "    <tr>\n",
       "      <th>18133</th>\n",
       "      <td>18133</td>\n",
       "      <td>NaN</td>\n",
       "      <td>NaN</td>\n",
       "      <td>NaN</td>\n",
       "      <td>NaN</td>\n",
       "      <td>NaN</td>\n",
       "      <td>camp-italy-area-2-linea-riva-armonizzato</td>\n",
       "      <td>NaN</td>\n",
       "      <td>NaN</td>\n",
       "      <td>NaN</td>\n",
       "      <td>NaN</td>\n",
       "    </tr>\n",
       "    <tr>\n",
       "      <th>18163</th>\n",
       "      <td>18163</td>\n",
       "      <td>NaN</td>\n",
       "      <td>NaN</td>\n",
       "      <td>NaN</td>\n",
       "      <td>NaN</td>\n",
       "      <td>NaN</td>\n",
       "      <td>mappe-storiche-dimpianto</td>\n",
       "      <td>NaN</td>\n",
       "      <td>NaN</td>\n",
       "      <td>NaN</td>\n",
       "      <td>NaN</td>\n",
       "    </tr>\n",
       "  </tbody>\n",
       "</table>\n",
       "</div>"
      ],
      "text/plain": [
       "       Unnamed: 0 ds_title _catalog_parent_name gruppo note ultima_modifica  \\\n",
       "18054       18054      NaN                  NaN    NaN  NaN             NaN   \n",
       "18102       18102      NaN                  NaN    NaN  NaN             NaN   \n",
       "18130       18130      NaN                  NaN    NaN  NaN             NaN   \n",
       "18133       18133      NaN                  NaN    NaN  NaN             NaN   \n",
       "18163       18163      NaN                  NaN    NaN  NaN             NaN   \n",
       "\n",
       "                                                 ds_name ds_id ds_license  \\\n",
       "18054                                              anpil   NaN        NaN   \n",
       "18102  camp-italy-area-1-linea-riva-giugno-2016-armon...   NaN        NaN   \n",
       "18130  camp-italy-area-1-linea-riva-maggio-2016-armon...   NaN        NaN   \n",
       "18133           camp-italy-area-2-linea-riva-armonizzato   NaN        NaN   \n",
       "18163                           mappe-storiche-dimpianto   NaN        NaN   \n",
       "\n",
       "       url mymtype  \n",
       "18054  NaN     NaN  \n",
       "18102  NaN     NaN  \n",
       "18130  NaN     NaN  \n",
       "18133  NaN     NaN  \n",
       "18163  NaN     NaN  "
      ]
     },
     "execution_count": 17,
     "metadata": {},
     "output_type": "execute_result"
    }
   ],
   "source": [
    "# Check DS senza metadati\n",
    "# http://www.dati.gov.it/api/3/action/package_show?id=organico-comune-bari\n",
    "df_test = df[pd.isnull(df['ds_title'])][-5:]\n",
    "df_test"
   ]
  },
  {
   "cell_type": "code",
   "execution_count": 18,
   "metadata": {},
   "outputs": [
    {
     "data": {
      "text/html": [
       "<div>\n",
       "<style>\n",
       "    .dataframe thead tr:only-child th {\n",
       "        text-align: right;\n",
       "    }\n",
       "\n",
       "    .dataframe thead th {\n",
       "        text-align: left;\n",
       "    }\n",
       "\n",
       "    .dataframe tbody tr th {\n",
       "        vertical-align: top;\n",
       "    }\n",
       "</style>\n",
       "<table border=\"1\" class=\"dataframe\">\n",
       "  <thead>\n",
       "    <tr style=\"text-align: right;\">\n",
       "      <th></th>\n",
       "      <th>Unnamed: 0</th>\n",
       "      <th>ds_title</th>\n",
       "      <th>_catalog_parent_name</th>\n",
       "      <th>gruppo</th>\n",
       "      <th>note</th>\n",
       "      <th>ultima_modifica</th>\n",
       "      <th>ds_name</th>\n",
       "      <th>ds_id</th>\n",
       "      <th>ds_license</th>\n",
       "      <th>url</th>\n",
       "      <th>mymtype</th>\n",
       "    </tr>\n",
       "  </thead>\n",
       "  <tbody>\n",
       "    <tr>\n",
       "      <th>0</th>\n",
       "      <td>0</td>\n",
       "      <td>NaN</td>\n",
       "      <td>NaN</td>\n",
       "      <td>NaN</td>\n",
       "      <td>NaN</td>\n",
       "      <td>NaN</td>\n",
       "      <td>circoscrizioni</td>\n",
       "      <td>NaN</td>\n",
       "      <td>NaN</td>\n",
       "      <td>NaN</td>\n",
       "      <td>NaN</td>\n",
       "    </tr>\n",
       "    <tr>\n",
       "      <th>1</th>\n",
       "      <td>1</td>\n",
       "      <td>Elezioni Amministrative 2014 - Eletti</td>\n",
       "      <td>Comune di Bari</td>\n",
       "      <td>Popolazione e società</td>\n",
       "      <td>&lt;p&gt;Gli eletti delle Amministrative  e Municipi...</td>\n",
       "      <td>2014-12-17</td>\n",
       "      <td>elezioni-amministrative-2014-eletti</td>\n",
       "      <td>ebad7b1c-ca8c-4dda-ac1f-a9f550e8fac6</td>\n",
       "      <td>CC0 1.0</td>\n",
       "      <td>NaN</td>\n",
       "      <td>NaN</td>\n",
       "    </tr>\n",
       "  </tbody>\n",
       "</table>\n",
       "</div>"
      ],
      "text/plain": [
       "   Unnamed: 0                               ds_title _catalog_parent_name  \\\n",
       "0           0                                    NaN                  NaN   \n",
       "1           1  Elezioni Amministrative 2014 - Eletti       Comune di Bari   \n",
       "\n",
       "                  gruppo                                               note  \\\n",
       "0                    NaN                                                NaN   \n",
       "1  Popolazione e società  <p>Gli eletti delle Amministrative  e Municipi...   \n",
       "\n",
       "  ultima_modifica                              ds_name  \\\n",
       "0             NaN                       circoscrizioni   \n",
       "1      2014-12-17  elezioni-amministrative-2014-eletti   \n",
       "\n",
       "                                  ds_id ds_license  url mymtype  \n",
       "0                                   NaN        NaN  NaN     NaN  \n",
       "1  ebad7b1c-ca8c-4dda-ac1f-a9f550e8fac6    CC0 1.0  NaN     NaN  "
      ]
     },
     "execution_count": 18,
     "metadata": {},
     "output_type": "execute_result"
    }
   ],
   "source": [
    "df.head(2)"
   ]
  },
  {
   "cell_type": "markdown",
   "metadata": {},
   "source": [
    "### 3. Group by Catalogo Padre"
   ]
  },
  {
   "cell_type": "code",
   "execution_count": 72,
   "metadata": {},
   "outputs": [],
   "source": [
    "df_cat = df.groupby(['_catalog_parent_name']).count().reset_index().sort_values(by='ds_name', ascending=False).set_index('_catalog_parent_name')"
   ]
  },
  {
   "cell_type": "code",
   "execution_count": 73,
   "metadata": {},
   "outputs": [
    {
     "data": {
      "text/html": [
       "<div>\n",
       "<style>\n",
       "    .dataframe thead tr:only-child th {\n",
       "        text-align: right;\n",
       "    }\n",
       "\n",
       "    .dataframe thead th {\n",
       "        text-align: left;\n",
       "    }\n",
       "\n",
       "    .dataframe tbody tr th {\n",
       "        vertical-align: top;\n",
       "    }\n",
       "</style>\n",
       "<table border=\"1\" class=\"dataframe\">\n",
       "  <thead>\n",
       "    <tr style=\"text-align: right;\">\n",
       "      <th></th>\n",
       "      <th>Unnamed: 0</th>\n",
       "      <th>ds_title</th>\n",
       "      <th>gruppo</th>\n",
       "      <th>note</th>\n",
       "      <th>ultima_modifica</th>\n",
       "      <th>ds_name</th>\n",
       "      <th>ds_id</th>\n",
       "      <th>ds_license</th>\n",
       "      <th>url</th>\n",
       "      <th>mymtype</th>\n",
       "    </tr>\n",
       "    <tr>\n",
       "      <th>_catalog_parent_name</th>\n",
       "      <th></th>\n",
       "      <th></th>\n",
       "      <th></th>\n",
       "      <th></th>\n",
       "      <th></th>\n",
       "      <th></th>\n",
       "      <th></th>\n",
       "      <th></th>\n",
       "      <th></th>\n",
       "      <th></th>\n",
       "    </tr>\n",
       "  </thead>\n",
       "  <tbody>\n",
       "    <tr>\n",
       "      <th>Dati trentino</th>\n",
       "      <td>5798</td>\n",
       "      <td>5798</td>\n",
       "      <td>1295</td>\n",
       "      <td>5798</td>\n",
       "      <td>5798</td>\n",
       "      <td>5798</td>\n",
       "      <td>5798</td>\n",
       "      <td>5798</td>\n",
       "      <td>5791</td>\n",
       "      <td>5790</td>\n",
       "    </tr>\n",
       "    <tr>\n",
       "      <th>Regione Toscana</th>\n",
       "      <td>2374</td>\n",
       "      <td>2374</td>\n",
       "      <td>1297</td>\n",
       "      <td>2374</td>\n",
       "      <td>2374</td>\n",
       "      <td>2374</td>\n",
       "      <td>2374</td>\n",
       "      <td>2374</td>\n",
       "      <td>2360</td>\n",
       "      <td>2175</td>\n",
       "    </tr>\n",
       "  </tbody>\n",
       "</table>\n",
       "</div>"
      ],
      "text/plain": [
       "                      Unnamed: 0  ds_title  gruppo  note  ultima_modifica  \\\n",
       "_catalog_parent_name                                                        \n",
       "Dati trentino               5798      5798    1295  5798             5798   \n",
       "Regione Toscana             2374      2374    1297  2374             2374   \n",
       "\n",
       "                      ds_name  ds_id  ds_license   url  mymtype  \n",
       "_catalog_parent_name                                             \n",
       "Dati trentino            5798   5798        5798  5791     5790  \n",
       "Regione Toscana          2374   2374        2374  2360     2175  "
      ]
     },
     "execution_count": 73,
     "metadata": {},
     "output_type": "execute_result"
    }
   ],
   "source": [
    "df_cat.head(2)"
   ]
  },
  {
   "cell_type": "code",
   "execution_count": 75,
   "metadata": {},
   "outputs": [
    {
     "data": {
      "text/plain": [
       "12196"
      ]
     },
     "execution_count": 75,
     "metadata": {},
     "output_type": "execute_result"
    }
   ],
   "source": [
    "# Primi 10 elementi per numero di dataset\n",
    "df_cat_10 = df_cat['ds_name'][:10]\n",
    "df_cat_10.sum()"
   ]
  },
  {
   "cell_type": "code",
   "execution_count": 76,
   "metadata": {},
   "outputs": [
    {
     "data": {
      "text/plain": [
       "21"
      ]
     },
     "execution_count": 76,
     "metadata": {},
     "output_type": "execute_result"
    }
   ],
   "source": [
    "# resto degli elementi\n",
    "df_cat['ds_name'][11:].count()"
   ]
  },
  {
   "cell_type": "code",
   "execution_count": 77,
   "metadata": {},
   "outputs": [
    {
     "data": {
      "text/plain": [
       "794"
      ]
     },
     "execution_count": 77,
     "metadata": {},
     "output_type": "execute_result"
    }
   ],
   "source": [
    "# Numero di dataset sul resto degli elementi\n",
    "df_cat['ds_name'][11:].sum()"
   ]
  },
  {
   "cell_type": "code",
   "execution_count": 102,
   "metadata": {},
   "outputs": [
    {
     "data": {
      "image/png": "[encoded data removed]",
      "text/plain": [
       "<matplotlib.figure.Figure at 0x6a570bd0>"
      ]
     },
     "metadata": {},
     "output_type": "display_data"
    }
   ],
   "source": [
    "#Grafico\n",
    "style.use('fivethirtyeight')\n",
    "colors = [[213/255,94/255,0]]\n",
    "tp = df_cat_10.plot(\n",
    "    kind='bar',\n",
    "    legend = False,\n",
    "    figsize = (6,4),\n",
    "    color = colors)\n",
    "\n",
    "for p in tp.patches:\n",
    "    tp.annotate(str(round(p.get_height())), (p.get_x() * 1.005, p.get_height() * 1.005), ha='center', va='center', xytext=(10, 5), textcoords='offset points',fontsize=9)\n",
    "    tp.plot()\n",
    "\n",
    "tp.tick_params(axis = 'both', which = 'major', labelsize = 10)\n",
    "tp.set_xlabel('Catalogo Padre',fontsize=8)\n",
    "tp.set_ylabel('n. dataset',fontsize=8)\n",
    "\n",
    "tp.axhline(y = 0, color = 'black', linewidth = 4, alpha = 0.7)\n",
    "\n",
    "labels = [item.get_text() for item in tp.get_xticklabels()]\n",
    "labels[0] = 'Dati \\nTrentino'\n",
    "labels[1] = 'Regione \\nToscana'\n",
    "labels[3] = 'Dati \\nVeneto'\n",
    "labels[4] = 'Comune \\nLecce'\n",
    "labels[5] = 'Dati Emilia \\nRomagna'\n",
    "\n",
    "tp.set_xticklabels(labels)\n",
    "#plt.xticks(rotation=0)\n",
    "\n",
    "text = tp.text(x = -1.7, y = -4000,\n",
    "    s = 'www.ildatomancante.it                                                                                  Fonte: Agid',\n",
    "    fontsize = 10, color = '#f0f0f0', backgroundcolor = 'grey')\n",
    "text.set_url('http://www.ildatomancante.it')\n",
    "\n",
    "fig_posts = tp.get_figure()"
   ]
  }
 ],
 "metadata": {
  "kernelspec": {
   "display_name": "Python 2",
   "language": "python",
   "name": "python2"
  },
  "language_info": {
   "codemirror_mode": {
    "name": "ipython",
    "version": 2
   },
   "file_extension": ".py",
   "mimetype": "text/x-python",
   "name": "python",
   "nbconvert_exporter": "python",
   "pygments_lexer": "ipython2",
   "version": "2.7.9"
  }
 },
 "nbformat": 4,
 "nbformat_minor": 2
}
