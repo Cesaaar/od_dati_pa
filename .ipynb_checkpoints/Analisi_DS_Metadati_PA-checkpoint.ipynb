{
 "cells": [
  {
   "cell_type": "markdown",
   "metadata": {},
   "source": [
    "# Analisi dei Metadati dei Dataset della PA\n",
    "\n",
    "To Do - API_Dati_Pubblici\n",
    "2. Implementa funzione in API_Dati_Pubblici che recupera in ordine di importanza le resources con un certo mymetype sulla base del machine-readble, nel seguente ordine: json, rdf, xml, csv,xls, altrimenti quello che c'è\n",
    "3. Schedula scarico mensile e ingestion, oppure automatizza tweet con un grafico"
   ]
  },
  {
   "cell_type": "code",
   "execution_count": 2,
   "metadata": {},
   "outputs": [
    {
     "name": "stdout",
     "output_type": "stream",
     "text": [
      "Populating the interactive namespace from numpy and matplotlib\n"
     ]
    }
   ],
   "source": [
    "import pandas as pd\n",
    "import numpy as np\n",
    "import matplotlib.pyplot as plt\n",
    "from datetime import datetime\n",
    "plt.style.use('ggplot')\n",
    "get_ipython().magic('pylab inline')\n",
    "\n",
    "import nltk\n",
    "from nltk.tokenize import word_tokenize\n",
    "import re\n",
    "from collections import Counter\n",
    "from nltk.corpus import stopwords\n",
    "import string"
   ]
  },
  {
   "cell_type": "code",
   "execution_count": 4,
   "metadata": {},
   "outputs": [],
   "source": [
    "df = pd.read_csv('2017-10-19_DSMetadatiPA.csv', delimiter=';')"
   ]
  },
  {
   "cell_type": "markdown",
   "metadata": {},
   "source": [
    "### 1. Numero Dataset PA"
   ]
  },
  {
   "cell_type": "code",
   "execution_count": 5,
   "metadata": {},
   "outputs": [
    {
     "data": {
      "text/plain": [
       "18252"
      ]
     },
     "execution_count": 5,
     "metadata": {},
     "output_type": "execute_result"
    }
   ],
   "source": [
    "df['ds_name'].count()"
   ]
  },
  {
   "cell_type": "markdown",
   "metadata": {},
   "source": [
    "### 2. Numero Dataset PA senza Metadati"
   ]
  },
  {
   "cell_type": "code",
   "execution_count": 6,
   "metadata": {},
   "outputs": [
    {
     "data": {
      "text/plain": [
       "451"
      ]
     },
     "execution_count": 6,
     "metadata": {},
     "output_type": "execute_result"
    }
   ],
   "source": [
    "df[pd.isnull(df['ds_title'])]['ds_name'].count()"
   ]
  },
  {
   "cell_type": "code",
   "execution_count": 7,
   "metadata": {},
   "outputs": [
    {
     "data": {
      "text/html": [
       "<div>\n",
       "<style>\n",
       "    .dataframe thead tr:only-child th {\n",
       "        text-align: right;\n",
       "    }\n",
       "\n",
       "    .dataframe thead th {\n",
       "        text-align: left;\n",
       "    }\n",
       "\n",
       "    .dataframe tbody tr th {\n",
       "        vertical-align: top;\n",
       "    }\n",
       "</style>\n",
       "<table border=\"1\" class=\"dataframe\">\n",
       "  <thead>\n",
       "    <tr style=\"text-align: right;\">\n",
       "      <th></th>\n",
       "      <th>Unnamed: 0</th>\n",
       "      <th>ds_title</th>\n",
       "      <th>_catalog_parent_name</th>\n",
       "      <th>gruppo</th>\n",
       "      <th>note</th>\n",
       "      <th>ultima_modifica</th>\n",
       "      <th>ds_name</th>\n",
       "      <th>ds_id</th>\n",
       "      <th>ds_license</th>\n",
       "      <th>url</th>\n",
       "      <th>mymtype</th>\n",
       "    </tr>\n",
       "  </thead>\n",
       "  <tbody>\n",
       "    <tr>\n",
       "      <th>17909</th>\n",
       "      <td>17909</td>\n",
       "      <td>NaN</td>\n",
       "      <td>NaN</td>\n",
       "      <td>NaN</td>\n",
       "      <td>NaN</td>\n",
       "      <td>NaN</td>\n",
       "      <td>corruzione</td>\n",
       "      <td>NaN</td>\n",
       "      <td>NaN</td>\n",
       "      <td>NaN</td>\n",
       "      <td>NaN</td>\n",
       "    </tr>\n",
       "    <tr>\n",
       "      <th>18034</th>\n",
       "      <td>18034</td>\n",
       "      <td>NaN</td>\n",
       "      <td>NaN</td>\n",
       "      <td>NaN</td>\n",
       "      <td>NaN</td>\n",
       "      <td>NaN</td>\n",
       "      <td>anpil</td>\n",
       "      <td>NaN</td>\n",
       "      <td>NaN</td>\n",
       "      <td>NaN</td>\n",
       "      <td>NaN</td>\n",
       "    </tr>\n",
       "    <tr>\n",
       "      <th>18146</th>\n",
       "      <td>18146</td>\n",
       "      <td>NaN</td>\n",
       "      <td>NaN</td>\n",
       "      <td>NaN</td>\n",
       "      <td>NaN</td>\n",
       "      <td>NaN</td>\n",
       "      <td>popolazione-residente</td>\n",
       "      <td>NaN</td>\n",
       "      <td>NaN</td>\n",
       "      <td>NaN</td>\n",
       "      <td>NaN</td>\n",
       "    </tr>\n",
       "    <tr>\n",
       "      <th>18147</th>\n",
       "      <td>18147</td>\n",
       "      <td>NaN</td>\n",
       "      <td>NaN</td>\n",
       "      <td>NaN</td>\n",
       "      <td>NaN</td>\n",
       "      <td>NaN</td>\n",
       "      <td>popolazione-straniera</td>\n",
       "      <td>NaN</td>\n",
       "      <td>NaN</td>\n",
       "      <td>NaN</td>\n",
       "      <td>NaN</td>\n",
       "    </tr>\n",
       "    <tr>\n",
       "      <th>18200</th>\n",
       "      <td>18200</td>\n",
       "      <td>NaN</td>\n",
       "      <td>NaN</td>\n",
       "      <td>NaN</td>\n",
       "      <td>NaN</td>\n",
       "      <td>NaN</td>\n",
       "      <td>inquinamento-atmosferico</td>\n",
       "      <td>NaN</td>\n",
       "      <td>NaN</td>\n",
       "      <td>NaN</td>\n",
       "      <td>NaN</td>\n",
       "    </tr>\n",
       "  </tbody>\n",
       "</table>\n",
       "</div>"
      ],
      "text/plain": [
       "       Unnamed: 0 ds_title _catalog_parent_name gruppo note ultima_modifica  \\\n",
       "17909       17909      NaN                  NaN    NaN  NaN             NaN   \n",
       "18034       18034      NaN                  NaN    NaN  NaN             NaN   \n",
       "18146       18146      NaN                  NaN    NaN  NaN             NaN   \n",
       "18147       18147      NaN                  NaN    NaN  NaN             NaN   \n",
       "18200       18200      NaN                  NaN    NaN  NaN             NaN   \n",
       "\n",
       "                        ds_name ds_id ds_license  url mymtype  \n",
       "17909                corruzione   NaN        NaN  NaN     NaN  \n",
       "18034                     anpil   NaN        NaN  NaN     NaN  \n",
       "18146     popolazione-residente   NaN        NaN  NaN     NaN  \n",
       "18147     popolazione-straniera   NaN        NaN  NaN     NaN  \n",
       "18200  inquinamento-atmosferico   NaN        NaN  NaN     NaN  "
      ]
     },
     "execution_count": 7,
     "metadata": {},
     "output_type": "execute_result"
    }
   ],
   "source": [
    "# Check DS senza metadati\n",
    "# http://www.dati.gov.it/api/3/action/package_show?id=popolazione-straniera\n",
    "df_test = df[pd.isnull(df['ds_title'])][-5:]\n",
    "df_test"
   ]
  },
  {
   "cell_type": "code",
   "execution_count": 8,
   "metadata": {},
   "outputs": [
    {
     "data": {
      "text/html": [
       "<div>\n",
       "<style>\n",
       "    .dataframe thead tr:only-child th {\n",
       "        text-align: right;\n",
       "    }\n",
       "\n",
       "    .dataframe thead th {\n",
       "        text-align: left;\n",
       "    }\n",
       "\n",
       "    .dataframe tbody tr th {\n",
       "        vertical-align: top;\n",
       "    }\n",
       "</style>\n",
       "<table border=\"1\" class=\"dataframe\">\n",
       "  <thead>\n",
       "    <tr style=\"text-align: right;\">\n",
       "      <th></th>\n",
       "      <th>Unnamed: 0</th>\n",
       "      <th>ds_title</th>\n",
       "      <th>_catalog_parent_name</th>\n",
       "      <th>gruppo</th>\n",
       "      <th>note</th>\n",
       "      <th>ultima_modifica</th>\n",
       "      <th>ds_name</th>\n",
       "      <th>ds_id</th>\n",
       "      <th>ds_license</th>\n",
       "      <th>url</th>\n",
       "      <th>mymtype</th>\n",
       "    </tr>\n",
       "  </thead>\n",
       "  <tbody>\n",
       "    <tr>\n",
       "      <th>0</th>\n",
       "      <td>0</td>\n",
       "      <td>NaN</td>\n",
       "      <td>NaN</td>\n",
       "      <td>NaN</td>\n",
       "      <td>NaN</td>\n",
       "      <td>NaN</td>\n",
       "      <td>circoscrizioni</td>\n",
       "      <td>NaN</td>\n",
       "      <td>NaN</td>\n",
       "      <td>NaN</td>\n",
       "      <td>NaN</td>\n",
       "    </tr>\n",
       "    <tr>\n",
       "      <th>1</th>\n",
       "      <td>1</td>\n",
       "      <td>Elezioni Amministrative 2014 - Eletti</td>\n",
       "      <td>Comune di Bari</td>\n",
       "      <td>Popolazione e società</td>\n",
       "      <td>&lt;p&gt;Gli eletti delle Amministrative  e Municipi...</td>\n",
       "      <td>2014-12-17</td>\n",
       "      <td>elezioni-amministrative-2014-eletti</td>\n",
       "      <td>ebad7b1c-ca8c-4dda-ac1f-a9f550e8fac6</td>\n",
       "      <td>CC0 1.0</td>\n",
       "      <td>NaN</td>\n",
       "      <td>NaN</td>\n",
       "    </tr>\n",
       "  </tbody>\n",
       "</table>\n",
       "</div>"
      ],
      "text/plain": [
       "   Unnamed: 0                               ds_title _catalog_parent_name  \\\n",
       "0           0                                    NaN                  NaN   \n",
       "1           1  Elezioni Amministrative 2014 - Eletti       Comune di Bari   \n",
       "\n",
       "                  gruppo                                               note  \\\n",
       "0                    NaN                                                NaN   \n",
       "1  Popolazione e società  <p>Gli eletti delle Amministrative  e Municipi...   \n",
       "\n",
       "  ultima_modifica                              ds_name  \\\n",
       "0             NaN                       circoscrizioni   \n",
       "1      2014-12-17  elezioni-amministrative-2014-eletti   \n",
       "\n",
       "                                  ds_id ds_license  url mymtype  \n",
       "0                                   NaN        NaN  NaN     NaN  \n",
       "1  ebad7b1c-ca8c-4dda-ac1f-a9f550e8fac6    CC0 1.0  NaN     NaN  "
      ]
     },
     "execution_count": 8,
     "metadata": {},
     "output_type": "execute_result"
    }
   ],
   "source": [
    "df.head(2)"
   ]
  },
  {
   "cell_type": "markdown",
   "metadata": {},
   "source": [
    "### 3. Group by Catalogo Padre"
   ]
  },
  {
   "cell_type": "code",
   "execution_count": 9,
   "metadata": {},
   "outputs": [],
   "source": [
    "df_cat = df.groupby(['_catalog_parent_name']).count().reset_index().sort_values(by='ds_name', ascending=False).set_index('_catalog_parent_name')"
   ]
  },
  {
   "cell_type": "code",
   "execution_count": 10,
   "metadata": {},
   "outputs": [
    {
     "data": {
      "text/html": [
       "<div>\n",
       "<style>\n",
       "    .dataframe thead tr:only-child th {\n",
       "        text-align: right;\n",
       "    }\n",
       "\n",
       "    .dataframe thead th {\n",
       "        text-align: left;\n",
       "    }\n",
       "\n",
       "    .dataframe tbody tr th {\n",
       "        vertical-align: top;\n",
       "    }\n",
       "</style>\n",
       "<table border=\"1\" class=\"dataframe\">\n",
       "  <thead>\n",
       "    <tr style=\"text-align: right;\">\n",
       "      <th></th>\n",
       "      <th>Unnamed: 0</th>\n",
       "      <th>ds_title</th>\n",
       "      <th>gruppo</th>\n",
       "      <th>note</th>\n",
       "      <th>ultima_modifica</th>\n",
       "      <th>ds_name</th>\n",
       "      <th>ds_id</th>\n",
       "      <th>ds_license</th>\n",
       "      <th>url</th>\n",
       "      <th>mymtype</th>\n",
       "    </tr>\n",
       "    <tr>\n",
       "      <th>_catalog_parent_name</th>\n",
       "      <th></th>\n",
       "      <th></th>\n",
       "      <th></th>\n",
       "      <th></th>\n",
       "      <th></th>\n",
       "      <th></th>\n",
       "      <th></th>\n",
       "      <th></th>\n",
       "      <th></th>\n",
       "      <th></th>\n",
       "    </tr>\n",
       "  </thead>\n",
       "  <tbody>\n",
       "    <tr>\n",
       "      <th>Dati trentino</th>\n",
       "      <td>5998</td>\n",
       "      <td>5998</td>\n",
       "      <td>1326</td>\n",
       "      <td>5998</td>\n",
       "      <td>5998</td>\n",
       "      <td>5998</td>\n",
       "      <td>5998</td>\n",
       "      <td>5798</td>\n",
       "      <td>5940</td>\n",
       "      <td>5840</td>\n",
       "    </tr>\n",
       "    <tr>\n",
       "      <th>Regione Toscana</th>\n",
       "      <td>2649</td>\n",
       "      <td>2649</td>\n",
       "      <td>1346</td>\n",
       "      <td>2637</td>\n",
       "      <td>2649</td>\n",
       "      <td>2649</td>\n",
       "      <td>2649</td>\n",
       "      <td>2385</td>\n",
       "      <td>2635</td>\n",
       "      <td>2448</td>\n",
       "    </tr>\n",
       "  </tbody>\n",
       "</table>\n",
       "</div>"
      ],
      "text/plain": [
       "                      Unnamed: 0  ds_title  gruppo  note  ultima_modifica  \\\n",
       "_catalog_parent_name                                                        \n",
       "Dati trentino               5998      5998    1326  5998             5998   \n",
       "Regione Toscana             2649      2649    1346  2637             2649   \n",
       "\n",
       "                      ds_name  ds_id  ds_license   url  mymtype  \n",
       "_catalog_parent_name                                             \n",
       "Dati trentino            5998   5998        5798  5940     5840  \n",
       "Regione Toscana          2649   2649        2385  2635     2448  "
      ]
     },
     "execution_count": 10,
     "metadata": {},
     "output_type": "execute_result"
    }
   ],
   "source": [
    "df_cat.head(2)"
   ]
  },
  {
   "cell_type": "code",
   "execution_count": 11,
   "metadata": {},
   "outputs": [
    {
     "data": {
      "text/plain": [
       "15605"
      ]
     },
     "execution_count": 11,
     "metadata": {},
     "output_type": "execute_result"
    }
   ],
   "source": [
    "# Primi 10 elementi per numero di dataset\n",
    "df_cat_10 = df_cat['ds_name'][:10]\n",
    "df_cat_10.sum()"
   ]
  },
  {
   "cell_type": "code",
   "execution_count": 12,
   "metadata": {},
   "outputs": [
    {
     "data": {
      "text/plain": [
       "26"
      ]
     },
     "execution_count": 12,
     "metadata": {},
     "output_type": "execute_result"
    }
   ],
   "source": [
    "# resto degli elementi\n",
    "df_cat['ds_name'][11:].count()"
   ]
  },
  {
   "cell_type": "code",
   "execution_count": 13,
   "metadata": {},
   "outputs": [
    {
     "data": {
      "text/plain": [
       "1850"
      ]
     },
     "execution_count": 13,
     "metadata": {},
     "output_type": "execute_result"
    }
   ],
   "source": [
    "# Numero di dataset sul resto degli elementi\n",
    "df_cat['ds_name'][11:].sum()"
   ]
  },
  {
   "cell_type": "code",
   "execution_count": 14,
   "metadata": {},
   "outputs": [
    {
     "data": {
      "text/plain": [
       "_catalog_parent_name\n",
       "Dati trentino               5998\n",
       "Regione Toscana             2649\n",
       "Dati Lombardia              1805\n",
       "INPS                        1581\n",
       "Comune di Albano Laziale    1190\n",
       "Regione Sardegna             707\n",
       "Dati Veneto                  454\n",
       "Open Data Alto Adige         438\n",
       "Dati Emilia Romagna          400\n",
       "Comune di Lecce              383\n",
       "Name: ds_name, dtype: int64"
      ]
     },
     "execution_count": 14,
     "metadata": {},
     "output_type": "execute_result"
    }
   ],
   "source": [
    "# Lista Cataloghi -> Occhio alle label settate a mano\n",
    "df_cat_10"
   ]
  },
  {
   "cell_type": "code",
   "execution_count": 19,
   "metadata": {},
   "outputs": [
    {
     "data": {
      "image/png": "[encoded data removed]",
      "text/plain": [
       "<matplotlib.figure.Figure at 0x6b109510>"
      ]
     },
     "metadata": {},
     "output_type": "display_data"
    }
   ],
   "source": [
    "#Grafico\n",
    "style.use('fivethirtyeight')\n",
    "colors = [['red']]\n",
    "tp = df_cat_10.plot(\n",
    "    kind='bar',\n",
    "    legend = False,\n",
    "    figsize = (10,4),\n",
    "    color = colors)\n",
    "\n",
    "for p in tp.patches:\n",
    "    tp.annotate(str(int(round(p.get_height()))), (p.get_x() * 1.005, p.get_height() * 1.005), ha='center', va='center', xytext=(15, 5), textcoords='offset points',fontsize=9)\n",
    "    tp.plot()\n",
    "\n",
    "tp.tick_params(axis = 'both', which = 'major', labelsize = 10)\n",
    "tp.set_xlabel('Catalogo',fontsize=8)\n",
    "tp.set_ylabel('n. dataset',fontsize=8)\n",
    "\n",
    "tp.axhline(y = 0, color = 'black', linewidth = 4, alpha = 0.7)\n",
    "\n",
    "labels = [item.get_text() for item in tp.get_xticklabels()]\n",
    "labels[0] = 'Dati \\nTrentino'\n",
    "labels[1] = 'Regione \\nToscana'\n",
    "labels[2] = 'Dati \\nLombardia'\n",
    "labels[3] = 'INPS'\n",
    "labels[4] = 'Comune di \\nAlbano Laziale'\n",
    "labels[5] = 'Regione \\nSardegna'\n",
    "labels[6] = 'Dati \\nVeneto'\n",
    "labels[7] = 'Open Data \\nAlto Adige'\n",
    "labels[8] = 'Dati Emilia \\nRomagna'\n",
    "labels[9] = 'Comune di \\nLecce'\n",
    "\n",
    "tp.set_xticklabels(labels)\n",
    "plt.xticks(rotation=0)\n",
    "\n",
    "# Adding a title and a subtitle\n",
    "tp.text(x = -1.0, y = 7640, s = \"I dati aperti della Pubblica Amministrazione\",\n",
    "               fontsize = 14, weight = 'bold', alpha = .75)\n",
    "tp.text(x = -1.0, y = 6700, \n",
    "               s = u\"I primi 10 cataloghi sorgente producono oltre l' 80% dei dataset. Su un totale di 18.000 dataset, 15.600 sono prodotti \\ndai primi 10 Enti Pubblici.\",\n",
    "              fontsize = 10, alpha = .85)\n",
    "\n",
    "text = tp.text(x = -1.2, y = -1500,\n",
    "    s = 'www.ildatomancante.it                                                                                                                                                        Fonte: dati.gov.it',\n",
    "    fontsize = 10, color = '#f0f0f0', backgroundcolor = 'grey')\n",
    "text.set_url('http://www.ildatomancante.it')\n",
    "\n",
    "fig_posts = tp.get_figure()\n",
    "fig_posts.savefig('Cataloghi Dataset.png', format='png', dpi=300,bbox_inches='tight')"
   ]
  },
  {
   "cell_type": "markdown",
   "metadata": {},
   "source": [
    "### 4. Group by Gruppo"
   ]
  },
  {
   "cell_type": "code",
   "execution_count": 20,
   "metadata": {},
   "outputs": [],
   "source": [
    "df_grp= df.groupby(['gruppo']).count().reset_index().sort_values(by='ds_name', ascending=False).set_index('gruppo')"
   ]
  },
  {
   "cell_type": "code",
   "execution_count": 21,
   "metadata": {},
   "outputs": [
    {
     "data": {
      "text/html": [
       "<div>\n",
       "<style>\n",
       "    .dataframe thead tr:only-child th {\n",
       "        text-align: right;\n",
       "    }\n",
       "\n",
       "    .dataframe thead th {\n",
       "        text-align: left;\n",
       "    }\n",
       "\n",
       "    .dataframe tbody tr th {\n",
       "        vertical-align: top;\n",
       "    }\n",
       "</style>\n",
       "<table border=\"1\" class=\"dataframe\">\n",
       "  <thead>\n",
       "    <tr style=\"text-align: right;\">\n",
       "      <th></th>\n",
       "      <th>Unnamed: 0</th>\n",
       "      <th>ds_title</th>\n",
       "      <th>_catalog_parent_name</th>\n",
       "      <th>note</th>\n",
       "      <th>ultima_modifica</th>\n",
       "      <th>ds_name</th>\n",
       "      <th>ds_id</th>\n",
       "      <th>ds_license</th>\n",
       "      <th>url</th>\n",
       "      <th>mymtype</th>\n",
       "    </tr>\n",
       "    <tr>\n",
       "      <th>gruppo</th>\n",
       "      <th></th>\n",
       "      <th></th>\n",
       "      <th></th>\n",
       "      <th></th>\n",
       "      <th></th>\n",
       "      <th></th>\n",
       "      <th></th>\n",
       "      <th></th>\n",
       "      <th></th>\n",
       "      <th></th>\n",
       "    </tr>\n",
       "  </thead>\n",
       "  <tbody>\n",
       "    <tr>\n",
       "      <th>Popolazione e società</th>\n",
       "      <td>1832</td>\n",
       "      <td>1832</td>\n",
       "      <td>1832</td>\n",
       "      <td>1825</td>\n",
       "      <td>1683</td>\n",
       "      <td>1832</td>\n",
       "      <td>1832</td>\n",
       "      <td>1807</td>\n",
       "      <td>1827</td>\n",
       "      <td>1822</td>\n",
       "    </tr>\n",
       "    <tr>\n",
       "      <th>Ambiente</th>\n",
       "      <td>1783</td>\n",
       "      <td>1783</td>\n",
       "      <td>1783</td>\n",
       "      <td>1773</td>\n",
       "      <td>1425</td>\n",
       "      <td>1783</td>\n",
       "      <td>1783</td>\n",
       "      <td>1052</td>\n",
       "      <td>1760</td>\n",
       "      <td>1575</td>\n",
       "    </tr>\n",
       "  </tbody>\n",
       "</table>\n",
       "</div>"
      ],
      "text/plain": [
       "                       Unnamed: 0  ds_title  _catalog_parent_name  note  \\\n",
       "gruppo                                                                    \n",
       "Popolazione e società        1832      1832                  1832  1825   \n",
       "Ambiente                     1783      1783                  1783  1773   \n",
       "\n",
       "                       ultima_modifica  ds_name  ds_id  ds_license   url  \\\n",
       "gruppo                                                                     \n",
       "Popolazione e società             1683     1832   1832        1807  1827   \n",
       "Ambiente                          1425     1783   1783        1052  1760   \n",
       "\n",
       "                       mymtype  \n",
       "gruppo                          \n",
       "Popolazione e società     1822  \n",
       "Ambiente                  1575  "
      ]
     },
     "execution_count": 21,
     "metadata": {},
     "output_type": "execute_result"
    }
   ],
   "source": [
    "df_grp.head(2)"
   ]
  },
  {
   "cell_type": "code",
   "execution_count": 22,
   "metadata": {},
   "outputs": [
    {
     "data": {
      "text/plain": [
       "6414"
      ]
     },
     "execution_count": 22,
     "metadata": {},
     "output_type": "execute_result"
    }
   ],
   "source": [
    "# Primi 10 elementi per numero di dataset\n",
    "df_grp_10 = df_grp['ds_name'][:10]\n",
    "df_grp_10.sum()"
   ]
  },
  {
   "cell_type": "code",
   "execution_count": 23,
   "metadata": {},
   "outputs": [
    {
     "data": {
      "text/plain": [
       "2"
      ]
     },
     "execution_count": 23,
     "metadata": {},
     "output_type": "execute_result"
    }
   ],
   "source": [
    "# resto degli elementi\n",
    "df_grp['ds_name'][11:].count()"
   ]
  },
  {
   "cell_type": "code",
   "execution_count": 24,
   "metadata": {},
   "outputs": [
    {
     "data": {
      "text/plain": [
       "23"
      ]
     },
     "execution_count": 24,
     "metadata": {},
     "output_type": "execute_result"
    }
   ],
   "source": [
    "# Numero di dataset sul resto degli elementi\n",
    "df_grp['ds_name'][11:].sum()"
   ]
  },
  {
   "cell_type": "code",
   "execution_count": 25,
   "metadata": {},
   "outputs": [
    {
     "data": {
      "text/plain": [
       "gruppo\n",
       "Popolazione e società                                     1832\n",
       "Ambiente                                                  1783\n",
       "Istruzione, cultura e sport                               1118\n",
       "Governo e settore pubblico                                 836\n",
       "Economia e finanze                                         500\n",
       "Agricoltura, pesca, silvicoltura e prodotti alimentari     125\n",
       "Trasporti                                                   90\n",
       "Salute                                                      60\n",
       "Giustizia, sistema giuridico e sicurezza pubblica           35\n",
       "Regioni e città                                             35\n",
       "Name: ds_name, dtype: int64"
      ]
     },
     "execution_count": 25,
     "metadata": {},
     "output_type": "execute_result"
    }
   ],
   "source": [
    "df_grp_10"
   ]
  },
  {
   "cell_type": "code",
   "execution_count": 27,
   "metadata": {},
   "outputs": [
    {
     "data": {
      "image/png": "[encoded data removed]",
      "text/plain": [
       "<matplotlib.figure.Figure at 0x6a499250>"
      ]
     },
     "metadata": {},
     "output_type": "display_data"
    }
   ],
   "source": [
    "#Grafico\n",
    "style.use('fivethirtyeight')\n",
    "colors = [['red']]\n",
    "tp = df_grp_10.plot(\n",
    "    kind='bar',\n",
    "    legend = False,\n",
    "    figsize = (10,4),\n",
    "    color = colors)\n",
    "\n",
    "for p in tp.patches:\n",
    "    tp.annotate(str(int(round(p.get_height()))), (p.get_x() * 1.005, p.get_height() * 1.005), ha='center', va='center', xytext=(15, 5), textcoords='offset points',fontsize=9)\n",
    "    tp.plot()\n",
    "\n",
    "tp.tick_params(axis = 'both', which = 'major', labelsize = 10)\n",
    "tp.set_xlabel('Gruppo',fontsize=8)\n",
    "tp.set_ylabel('n. dataset',fontsize=8)\n",
    "\n",
    "tp.axhline(y = 0, color = 'black', linewidth = 4, alpha = 0.7)\n",
    "\n",
    "labels = [item.get_text() for item in tp.get_xticklabels()]\n",
    "labels[0] = u'Popolazione \\ne società'\n",
    "labels[1] = 'Ambiente'\n",
    "labels[2] = 'Istruzione, \\ncultura \\ne sport'\n",
    "labels[3] = 'Governo e \\nsettore \\npubblico'\n",
    "labels[4] = 'Economia \\ne finanze'\n",
    "labels[5] = 'Agricoltura'\n",
    "labels[6] = 'Trasporti'\n",
    "labels[7] = 'Salute'\n",
    "labels[8] = 'Giustizia'\n",
    "labels[9] = u'Regioni \\ne città'\n",
    "\n",
    "tp.set_xticklabels(labels)\n",
    "plt.xticks(rotation=0)\n",
    "\n",
    "# Adding a title and a subtitle\n",
    "tp.text(x = -1.0, y = 2150, s = \"I dati aperti della Pubblica Amministrazione\",\n",
    "               fontsize = 14, weight = 'bold', alpha = .75)\n",
    "tp.text(x = -1.0, y = 2000, \n",
    "               s = u\"Su ca.18.000 dataset solo in 6.400 hanno il campo gruppo popolato.\",\n",
    "              fontsize = 10, alpha = .85)\n",
    "\n",
    "text = tp.text(x = -1.2, y = -500,\n",
    "    s = 'www.ildatomancante.it                                                                                                                                                        Fonte: dati.gov.it',\n",
    "    fontsize = 10, color = '#f0f0f0', backgroundcolor = 'grey')\n",
    "text.set_url('http://www.ildatomancante.it')\n",
    "\n",
    "fig_posts = tp.get_figure()\n",
    "fig_posts.savefig('Gruppi Dataset.svg', format='svg', dpi=300,bbox_inches='tight')\n",
    "fig_posts.savefig('Gruppi Dataset.png', format='png', dpi=300,bbox_inches='tight')"
   ]
  },
  {
   "cell_type": "markdown",
   "metadata": {},
   "source": [
    "### Group by Ultima Modifica -> Time series chart"
   ]
  },
  {
   "cell_type": "code",
   "execution_count": 46,
   "metadata": {},
   "outputs": [
    {
     "data": {
      "text/plain": [
       "True"
      ]
     },
     "execution_count": 46,
     "metadata": {},
     "output_type": "execute_result"
    }
   ],
   "source": [
    "np.isnan(df['ultima_modifica'][0])"
   ]
  },
  {
   "cell_type": "code",
   "execution_count": 113,
   "metadata": {},
   "outputs": [],
   "source": [
    "from datetime import datetime\n",
    "def calcolo_anno(x):\n",
    "    try:\n",
    "        np.isnan(x['ultima_modifica'])\n",
    "        anno = '9999'\n",
    "    except:\n",
    "        anno = x['ultima_modifica'][0:4]\n",
    "    return anno"
   ]
  },
  {
   "cell_type": "code",
   "execution_count": 114,
   "metadata": {},
   "outputs": [],
   "source": [
    "df['dt_ultima_modifica'] = df.apply(lambda x: calcolo_anno(x), axis=1)"
   ]
  },
  {
   "cell_type": "code",
   "execution_count": 115,
   "metadata": {},
   "outputs": [
    {
     "data": {
      "text/html": [
       "<div>\n",
       "<style>\n",
       "    .dataframe thead tr:only-child th {\n",
       "        text-align: right;\n",
       "    }\n",
       "\n",
       "    .dataframe thead th {\n",
       "        text-align: left;\n",
       "    }\n",
       "\n",
       "    .dataframe tbody tr th {\n",
       "        vertical-align: top;\n",
       "    }\n",
       "</style>\n",
       "<table border=\"1\" class=\"dataframe\">\n",
       "  <thead>\n",
       "    <tr style=\"text-align: right;\">\n",
       "      <th></th>\n",
       "      <th>Unnamed: 0</th>\n",
       "      <th>ds_title</th>\n",
       "      <th>_catalog_parent_name</th>\n",
       "      <th>gruppo</th>\n",
       "      <th>note</th>\n",
       "      <th>ultima_modifica</th>\n",
       "      <th>ds_name</th>\n",
       "      <th>ds_id</th>\n",
       "      <th>ds_license</th>\n",
       "      <th>url</th>\n",
       "      <th>mymtype</th>\n",
       "      <th>dt_ultima_modifica</th>\n",
       "    </tr>\n",
       "  </thead>\n",
       "  <tbody>\n",
       "    <tr>\n",
       "      <th>0</th>\n",
       "      <td>0</td>\n",
       "      <td>NaN</td>\n",
       "      <td>NaN</td>\n",
       "      <td>NaN</td>\n",
       "      <td>NaN</td>\n",
       "      <td>NaN</td>\n",
       "      <td>circoscrizioni</td>\n",
       "      <td>NaN</td>\n",
       "      <td>NaN</td>\n",
       "      <td>NaN</td>\n",
       "      <td>NaN</td>\n",
       "      <td>9999</td>\n",
       "    </tr>\n",
       "    <tr>\n",
       "      <th>1</th>\n",
       "      <td>1</td>\n",
       "      <td>Elezioni Amministrative 2014 - Eletti</td>\n",
       "      <td>Comune di Bari</td>\n",
       "      <td>Popolazione e società</td>\n",
       "      <td>&lt;p&gt;Gli eletti delle Amministrative  e Municipi...</td>\n",
       "      <td>2014-12-17</td>\n",
       "      <td>elezioni-amministrative-2014-eletti</td>\n",
       "      <td>ebad7b1c-ca8c-4dda-ac1f-a9f550e8fac6</td>\n",
       "      <td>CC0 1.0</td>\n",
       "      <td>NaN</td>\n",
       "      <td>NaN</td>\n",
       "      <td>2014</td>\n",
       "    </tr>\n",
       "  </tbody>\n",
       "</table>\n",
       "</div>"
      ],
      "text/plain": [
       "   Unnamed: 0                               ds_title _catalog_parent_name  \\\n",
       "0           0                                    NaN                  NaN   \n",
       "1           1  Elezioni Amministrative 2014 - Eletti       Comune di Bari   \n",
       "\n",
       "                  gruppo                                               note  \\\n",
       "0                    NaN                                                NaN   \n",
       "1  Popolazione e società  <p>Gli eletti delle Amministrative  e Municipi...   \n",
       "\n",
       "  ultima_modifica                              ds_name  \\\n",
       "0             NaN                       circoscrizioni   \n",
       "1      2014-12-17  elezioni-amministrative-2014-eletti   \n",
       "\n",
       "                                  ds_id ds_license  url mymtype  \\\n",
       "0                                   NaN        NaN  NaN     NaN   \n",
       "1  ebad7b1c-ca8c-4dda-ac1f-a9f550e8fac6    CC0 1.0  NaN     NaN   \n",
       "\n",
       "  dt_ultima_modifica  \n",
       "0               9999  \n",
       "1               2014  "
      ]
     },
     "execution_count": 115,
     "metadata": {},
     "output_type": "execute_result"
    }
   ],
   "source": [
    "df.head(2)"
   ]
  },
  {
   "cell_type": "code",
   "execution_count": 116,
   "metadata": {},
   "outputs": [],
   "source": [
    "df_tms = df.groupby(['dt_ultima_modifica']).count().reset_index().sort_values(by='dt_ultima_modifica', ascending=False).set_index('dt_ultima_modifica')"
   ]
  },
  {
   "cell_type": "code",
   "execution_count": 118,
   "metadata": {},
   "outputs": [
    {
     "data": {
      "text/html": [
       "<div>\n",
       "<style>\n",
       "    .dataframe thead tr:only-child th {\n",
       "        text-align: right;\n",
       "    }\n",
       "\n",
       "    .dataframe thead th {\n",
       "        text-align: left;\n",
       "    }\n",
       "\n",
       "    .dataframe tbody tr th {\n",
       "        vertical-align: top;\n",
       "    }\n",
       "</style>\n",
       "<table border=\"1\" class=\"dataframe\">\n",
       "  <thead>\n",
       "    <tr style=\"text-align: right;\">\n",
       "      <th></th>\n",
       "      <th>Unnamed: 0</th>\n",
       "      <th>ds_title</th>\n",
       "      <th>_catalog_parent_name</th>\n",
       "      <th>gruppo</th>\n",
       "      <th>note</th>\n",
       "      <th>ultima_modifica</th>\n",
       "      <th>ds_name</th>\n",
       "      <th>ds_id</th>\n",
       "      <th>ds_license</th>\n",
       "      <th>url</th>\n",
       "      <th>mymtype</th>\n",
       "    </tr>\n",
       "    <tr>\n",
       "      <th>dt_ultima_modifica</th>\n",
       "      <th></th>\n",
       "      <th></th>\n",
       "      <th></th>\n",
       "      <th></th>\n",
       "      <th></th>\n",
       "      <th></th>\n",
       "      <th></th>\n",
       "      <th></th>\n",
       "      <th></th>\n",
       "      <th></th>\n",
       "      <th></th>\n",
       "    </tr>\n",
       "  </thead>\n",
       "  <tbody>\n",
       "    <tr>\n",
       "      <th>9999</th>\n",
       "      <td>2485</td>\n",
       "      <td>2034</td>\n",
       "      <td>2034</td>\n",
       "      <td>1069</td>\n",
       "      <td>2034</td>\n",
       "      <td>0</td>\n",
       "      <td>2485</td>\n",
       "      <td>2034</td>\n",
       "      <td>1910</td>\n",
       "      <td>1990</td>\n",
       "      <td>1990</td>\n",
       "    </tr>\n",
       "    <tr>\n",
       "      <th>2017</th>\n",
       "      <td>10441</td>\n",
       "      <td>10441</td>\n",
       "      <td>10441</td>\n",
       "      <td>4248</td>\n",
       "      <td>10390</td>\n",
       "      <td>10441</td>\n",
       "      <td>10441</td>\n",
       "      <td>10441</td>\n",
       "      <td>9114</td>\n",
       "      <td>10371</td>\n",
       "      <td>9831</td>\n",
       "    </tr>\n",
       "    <tr>\n",
       "      <th>2016</th>\n",
       "      <td>2067</td>\n",
       "      <td>2067</td>\n",
       "      <td>2067</td>\n",
       "      <td>561</td>\n",
       "      <td>2058</td>\n",
       "      <td>2067</td>\n",
       "      <td>2067</td>\n",
       "      <td>2067</td>\n",
       "      <td>2031</td>\n",
       "      <td>2059</td>\n",
       "      <td>2043</td>\n",
       "    </tr>\n",
       "    <tr>\n",
       "      <th>2015</th>\n",
       "      <td>1209</td>\n",
       "      <td>1209</td>\n",
       "      <td>1209</td>\n",
       "      <td>317</td>\n",
       "      <td>1170</td>\n",
       "      <td>1209</td>\n",
       "      <td>1209</td>\n",
       "      <td>1209</td>\n",
       "      <td>1040</td>\n",
       "      <td>1201</td>\n",
       "      <td>1197</td>\n",
       "    </tr>\n",
       "    <tr>\n",
       "      <th>2014</th>\n",
       "      <td>873</td>\n",
       "      <td>873</td>\n",
       "      <td>873</td>\n",
       "      <td>234</td>\n",
       "      <td>872</td>\n",
       "      <td>873</td>\n",
       "      <td>873</td>\n",
       "      <td>873</td>\n",
       "      <td>477</td>\n",
       "      <td>863</td>\n",
       "      <td>861</td>\n",
       "    </tr>\n",
       "    <tr>\n",
       "      <th>2013</th>\n",
       "      <td>1031</td>\n",
       "      <td>1031</td>\n",
       "      <td>1031</td>\n",
       "      <td>29</td>\n",
       "      <td>1028</td>\n",
       "      <td>1031</td>\n",
       "      <td>1031</td>\n",
       "      <td>1031</td>\n",
       "      <td>333</td>\n",
       "      <td>1030</td>\n",
       "      <td>1029</td>\n",
       "    </tr>\n",
       "    <tr>\n",
       "      <th>2012</th>\n",
       "      <td>143</td>\n",
       "      <td>143</td>\n",
       "      <td>143</td>\n",
       "      <td>0</td>\n",
       "      <td>143</td>\n",
       "      <td>143</td>\n",
       "      <td>143</td>\n",
       "      <td>143</td>\n",
       "      <td>143</td>\n",
       "      <td>143</td>\n",
       "      <td>143</td>\n",
       "    </tr>\n",
       "    <tr>\n",
       "      <th>2011</th>\n",
       "      <td>3</td>\n",
       "      <td>3</td>\n",
       "      <td>3</td>\n",
       "      <td>0</td>\n",
       "      <td>3</td>\n",
       "      <td>3</td>\n",
       "      <td>3</td>\n",
       "      <td>3</td>\n",
       "      <td>3</td>\n",
       "      <td>3</td>\n",
       "      <td>3</td>\n",
       "    </tr>\n",
       "  </tbody>\n",
       "</table>\n",
       "</div>"
      ],
      "text/plain": [
       "                    Unnamed: 0  ds_title  _catalog_parent_name  gruppo   note  \\\n",
       "dt_ultima_modifica                                                              \n",
       "9999                      2485      2034                  2034    1069   2034   \n",
       "2017                     10441     10441                 10441    4248  10390   \n",
       "2016                      2067      2067                  2067     561   2058   \n",
       "2015                      1209      1209                  1209     317   1170   \n",
       "2014                       873       873                   873     234    872   \n",
       "2013                      1031      1031                  1031      29   1028   \n",
       "2012                       143       143                   143       0    143   \n",
       "2011                         3         3                     3       0      3   \n",
       "\n",
       "                    ultima_modifica  ds_name  ds_id  ds_license    url  \\\n",
       "dt_ultima_modifica                                                       \n",
       "9999                              0     2485   2034        1910   1990   \n",
       "2017                          10441    10441  10441        9114  10371   \n",
       "2016                           2067     2067   2067        2031   2059   \n",
       "2015                           1209     1209   1209        1040   1201   \n",
       "2014                            873      873    873         477    863   \n",
       "2013                           1031     1031   1031         333   1030   \n",
       "2012                            143      143    143         143    143   \n",
       "2011                              3        3      3           3      3   \n",
       "\n",
       "                    mymtype  \n",
       "dt_ultima_modifica           \n",
       "9999                   1990  \n",
       "2017                   9831  \n",
       "2016                   2043  \n",
       "2015                   1197  \n",
       "2014                    861  \n",
       "2013                   1029  \n",
       "2012                    143  \n",
       "2011                      3  "
      ]
     },
     "execution_count": 118,
     "metadata": {},
     "output_type": "execute_result"
    }
   ],
   "source": [
    "df_tms"
   ]
  },
  {
   "cell_type": "markdown",
   "metadata": {},
   "source": [
    "### 6. Word Cloud su Titolo"
   ]
  },
  {
   "cell_type": "code",
   "execution_count": 5,
   "metadata": {},
   "outputs": [
    {
     "data": {
      "text/html": [
       "<div>\n",
       "<style>\n",
       "    .dataframe thead tr:only-child th {\n",
       "        text-align: right;\n",
       "    }\n",
       "\n",
       "    .dataframe thead th {\n",
       "        text-align: left;\n",
       "    }\n",
       "\n",
       "    .dataframe tbody tr th {\n",
       "        vertical-align: top;\n",
       "    }\n",
       "</style>\n",
       "<table border=\"1\" class=\"dataframe\">\n",
       "  <thead>\n",
       "    <tr style=\"text-align: right;\">\n",
       "      <th></th>\n",
       "      <th>Unnamed: 0</th>\n",
       "      <th>ds_title</th>\n",
       "      <th>_catalog_parent_name</th>\n",
       "      <th>gruppo</th>\n",
       "      <th>note</th>\n",
       "      <th>ultima_modifica</th>\n",
       "      <th>ds_name</th>\n",
       "      <th>ds_id</th>\n",
       "      <th>ds_license</th>\n",
       "      <th>url</th>\n",
       "      <th>mymtype</th>\n",
       "    </tr>\n",
       "  </thead>\n",
       "  <tbody>\n",
       "    <tr>\n",
       "      <th>0</th>\n",
       "      <td>0</td>\n",
       "      <td>NaN</td>\n",
       "      <td>NaN</td>\n",
       "      <td>NaN</td>\n",
       "      <td>NaN</td>\n",
       "      <td>NaN</td>\n",
       "      <td>circoscrizioni</td>\n",
       "      <td>NaN</td>\n",
       "      <td>NaN</td>\n",
       "      <td>NaN</td>\n",
       "      <td>NaN</td>\n",
       "    </tr>\n",
       "    <tr>\n",
       "      <th>1</th>\n",
       "      <td>1</td>\n",
       "      <td>Elezioni Amministrative 2014 - Eletti</td>\n",
       "      <td>Comune di Bari</td>\n",
       "      <td>Popolazione e società</td>\n",
       "      <td>&lt;p&gt;Gli eletti delle Amministrative  e Municipi...</td>\n",
       "      <td>2014-12-17</td>\n",
       "      <td>elezioni-amministrative-2014-eletti</td>\n",
       "      <td>ebad7b1c-ca8c-4dda-ac1f-a9f550e8fac6</td>\n",
       "      <td>CC0 1.0</td>\n",
       "      <td>NaN</td>\n",
       "      <td>NaN</td>\n",
       "    </tr>\n",
       "  </tbody>\n",
       "</table>\n",
       "</div>"
      ],
      "text/plain": [
       "   Unnamed: 0                               ds_title _catalog_parent_name  \\\n",
       "0           0                                    NaN                  NaN   \n",
       "1           1  Elezioni Amministrative 2014 - Eletti       Comune di Bari   \n",
       "\n",
       "                  gruppo                                               note  \\\n",
       "0                    NaN                                                NaN   \n",
       "1  Popolazione e società  <p>Gli eletti delle Amministrative  e Municipi...   \n",
       "\n",
       "  ultima_modifica                              ds_name  \\\n",
       "0             NaN                       circoscrizioni   \n",
       "1      2014-12-17  elezioni-amministrative-2014-eletti   \n",
       "\n",
       "                                  ds_id ds_license  url mymtype  \n",
       "0                                   NaN        NaN  NaN     NaN  \n",
       "1  ebad7b1c-ca8c-4dda-ac1f-a9f550e8fac6    CC0 1.0  NaN     NaN  "
      ]
     },
     "execution_count": 5,
     "metadata": {},
     "output_type": "execute_result"
    }
   ],
   "source": [
    "df.head(2)"
   ]
  },
  {
   "cell_type": "code",
   "execution_count": 6,
   "metadata": {},
   "outputs": [],
   "source": [
    "emoticons_str = r\"\"\"\n",
    "    (?:\n",
    "        [:=;] # Eyes\n",
    "        [oO\\-]? # Nose (optional)\n",
    "        [D\\)\\]\\(\\]/\\\\OpP] # Mouth\n",
    "    )\"\"\"\n",
    " \n",
    "regex_str = [\n",
    "    emoticons_str,\n",
    "    r'<[^>]+>', # HTML tags\n",
    "    r'(?:@[\\w_]+)', # @-mentions\n",
    "    r\"(?:\\#+[\\w_]+[\\w\\'_\\-]*[\\w_]+)\", # hash-tags\n",
    "    r'http[s]?://(?:[a-z]|[0-9]|[$-_@.&amp;+]|[!*\\(\\),]|(?:%[0-9a-f][0-9a-f]))+', # URLs\n",
    " \n",
    "    r'(?:(?:\\d+,?)+(?:\\.?\\d+)?)', # numbers\n",
    "    r\"(?:[a-z][a-z'\\-_]+[a-z])\", # words with - and '\n",
    "    r'(?:[\\w_]+)', # other words\n",
    "    r'(?:\\S)' # anything else\n",
    "]"
   ]
  },
  {
   "cell_type": "code",
   "execution_count": 7,
   "metadata": {},
   "outputs": [],
   "source": [
    "tokens_re = re.compile(r'('+'|'.join(regex_str)+')', re.VERBOSE | re.IGNORECASE)\n",
    "emoticon_re = re.compile(r'^'+emoticons_str+'$', re.VERBOSE | re.IGNORECASE)"
   ]
  },
  {
   "cell_type": "code",
   "execution_count": 8,
   "metadata": {},
   "outputs": [],
   "source": [
    "def tokenize(s):\n",
    "    return tokens_re.findall(s)\n",
    " \n",
    "def preprocess(s, lowercase=False):\n",
    "    tokens = tokenize(s)\n",
    "    if lowercase:\n",
    "        tokens = [token if emoticon_re.search(token) else token.lower() for token in tokens]\n",
    "    return tokens"
   ]
  },
  {
   "cell_type": "code",
   "execution_count": 29,
   "metadata": {},
   "outputs": [],
   "source": [
    "count_only = Counter()\n",
    "punctuation = list(string.punctuation)\n",
    "# stop = stopwords.words('english') + punctuation + ['rt', 'via']\n",
    "stop = punctuation\n",
    "for i, row in df['ds_title'].iteritems():\n",
    "    try:\n",
    "        np.isnan(row)\n",
    "    except:\n",
    "        terms_only = [term for term in preprocess(row) \n",
    "                  if term not in stop and\n",
    "                  not term.startswith(('per','\\xc3','di','del','e','\\xa0','della'\n",
    "                                      ,'Anno','a','in','#039','al','dei',\n",
    "                                      'con','nel','12','10','1','da','31'))] \n",
    "        count_only.update(terms_only)"
   ]
  },
  {
   "cell_type": "code",
   "execution_count": 31,
   "metadata": {},
   "outputs": [
    {
     "data": {
      "text/plain": [
       "[{'text': 'Comune', 'weight': 4718},\n",
       " {'text': '2014', 'weight': 1472},\n",
       " {'text': '2013', 'weight': 1328},\n",
       " {'text': '2015', 'weight': 963},\n",
       " {'text': '2012', 'weight': 782},\n",
       " {'text': 'sesso', 'weight': 684},\n",
       " {'text': 'Numero', 'weight': 642},\n",
       " {'text': '2016', 'weight': 628},\n",
       " {'text': 'LIV', 'weight': 554},\n",
       " {'text': '2011', 'weight': 532},\n",
       " {'text': 'Popolazione', 'weight': 514},\n",
       " {'text': '2010', 'weight': 480},\n",
       " {'text': 'Servizi', 'weight': 458},\n",
       " {'text': 'Regione', 'weight': 379},\n",
       " {'text': 'Anni', 'weight': 371},\n",
       " {'text': '2017', 'weight': 361},\n",
       " {'text': 'Aree', 'weight': 351},\n",
       " {'text': 'Elenco', 'weight': 345},\n",
       " {'text': 'residente', 'weight': 340},\n",
       " {'text': '2007', 'weight': 332},\n",
       " {'text': 'Provincia', 'weight': 316},\n",
       " {'text': 'Firenze', 'weight': 298},\n",
       " {'text': 'AMB', 'weight': 296},\n",
       " {'text': 'SINTESI', 'weight': 294},\n",
       " {'text': '2008', 'weight': 289},\n",
       " {'text': 'Comunit', 'weight': 281},\n",
       " {'text': '2009', 'weight': 276},\n",
       " {'text': 'lavoratori', 'weight': 268},\n",
       " {'text': 'DETTAGLIO', 'weight': 260},\n",
       " {'text': 'classe', 'weight': 256}]"
      ]
     },
     "execution_count": 31,
     "metadata": {},
     "output_type": "execute_result"
    }
   ],
   "source": [
    "word_freq = count_only.most_common(30)\n",
    "words_json = [{'text': item[0], 'weight': item[1]} for item in word_freq]\n",
    "words_json"
   ]
  },
  {
   "cell_type": "markdown",
   "metadata": {},
   "source": [
    "### Word Cloud su Notes"
   ]
  },
  {
   "cell_type": "code",
   "execution_count": 46,
   "metadata": {},
   "outputs": [],
   "source": [
    "count_only = Counter()\n",
    "punctuation = list(string.punctuation)\n",
    "# stop = stopwords.words('english') + punctuation + ['rt', 'via']\n",
    "stop = punctuation\n",
    "for i, row in df['note'].iteritems():\n",
    "    try:\n",
    "        np.isnan(row)\n",
    "    except:\n",
    "        terms_only = [term for term in preprocess(row) \n",
    "                  if term not in stop and\n",
    "                  not term.startswith(('per','\\xc3','di','del','e','\\xa0','della'\n",
    "                                      ,'Anno','a','in','#039','al','dei',\n",
    "                                      'con','nel','12','10','1','da','31',\n",
    "                                      '<p>','</p>','<br />', 'i', 'sul',\n",
    "                                      '</strong>','<strong>', 'la', 'le','\\x80',\n",
    "                                      'xe2', 'Tutti', 'il', 'sono', '\\xa8', '\\x99',\n",
    "                                      'che', 'una', 'che', 'gli','Il','n','o',\n",
    "                                      '\\xe2','si','un','\\xc2','su','questo','come',\n",
    "                                      'stesso','I','Tutte','\\x93','Tipo','La','\\xb9',\n",
    "                                      'Per','degli','formati','pi'))] \n",
    "        count_only.update(terms_only)"
   ]
  },
  {
   "cell_type": "code",
   "execution_count": 51,
   "metadata": {},
   "outputs": [
    {
     "data": {
      "text/plain": [
       "[{'text': 'Comune', 'weight': 7226},\n",
       " {'text': 'pubblicati', 'weight': 4559},\n",
       " {'text': '2013', 'weight': 2064},\n",
       " {'text': '2014', 'weight': 1596},\n",
       " {'text': 'Numero', 'weight': 1534},\n",
       " {'text': 'Settore', 'weight': 1307},\n",
       " {'text': 'Firenze', 'weight': 1211},\n",
       " {'text': 'formato', 'weight': 1208},\n",
       " {'text': 'Algoritmo', 'weight': 1162},\n",
       " {'text': '2015', 'weight': 1158},\n",
       " {'text': 'territorio', 'weight': 1149},\n",
       " {'text': '2012', 'weight': 1048},\n",
       " {'text': 'Fonte', 'weight': 994},\n",
       " {'text': 'visualizzazione', 'weight': 981},\n",
       " {'text': 'relativi', 'weight': 944},\n",
       " {'text': 'presenti', 'weight': 907},\n",
       " {'text': 'Rapporto', 'weight': 890},\n",
       " {'text': 'Regione', 'weight': 868},\n",
       " {'text': 'sesso', 'weight': 845},\n",
       " {'text': '2011', 'weight': 822},\n",
       " {'text': 'Livello', 'weight': 808},\n",
       " {'text': 'Minimo', 'weight': 803},\n",
       " {'text': 'Geografico', 'weight': 799},\n",
       " {'text': 'Albano', 'weight': 776},\n",
       " {'text': 'classe', 'weight': 762},\n",
       " {'text': 'servizi', 'weight': 762},\n",
       " {'text': 'Dati', 'weight': 719},\n",
       " {'text': 'pagina', 'weight': 704},\n",
       " {'text': 'Provincia', 'weight': 697},\n",
       " {'text': '2017', 'weight': 695}]"
      ]
     },
     "execution_count": 51,
     "metadata": {},
     "output_type": "execute_result"
    }
   ],
   "source": [
    "word_freq_note = count_only.most_common(30)\n",
    "wordsnote__json = [{'text': item[0], 'weight': item[1]} for item in word_freq_note]\n",
    "wordsnote__json"
   ]
  },
  {
   "cell_type": "code",
   "execution_count": 48,
   "metadata": {},
   "outputs": [
    {
     "data": {
      "text/plain": [
       "[{'text': 'Comune', 'weight': 7226},\n",
       " {'text': 'pubblicati', 'weight': 4559},\n",
       " {'text': '2013', 'weight': 2064},\n",
       " {'text': '2014', 'weight': 1596},\n",
       " {'text': 'Numero', 'weight': 1534},\n",
       " {'text': 'Settore', 'weight': 1307},\n",
       " {'text': 'Firenze', 'weight': 1211},\n",
       " {'text': 'formato', 'weight': 1208},\n",
       " {'text': 'Algoritmo', 'weight': 1162},\n",
       " {'text': '2015', 'weight': 1158},\n",
       " {'text': 'territorio', 'weight': 1149},\n",
       " {'text': '2012', 'weight': 1048},\n",
       " {'text': 'Fonte', 'weight': 994},\n",
       " {'text': 'visualizzazione', 'weight': 981},\n",
       " {'text': 'relativi', 'weight': 944},\n",
       " {'text': 'presenti', 'weight': 907},\n",
       " {'text': 'Rapporto', 'weight': 890},\n",
       " {'text': 'Regione', 'weight': 868},\n",
       " {'text': 'sesso', 'weight': 845},\n",
       " {'text': '2011', 'weight': 822},\n",
       " {'text': 'Livello', 'weight': 808},\n",
       " {'text': 'Minimo', 'weight': 803},\n",
       " {'text': 'Geografico', 'weight': 799},\n",
       " {'text': 'Albano', 'weight': 776},\n",
       " {'text': 'classe', 'weight': 762},\n",
       " {'text': 'servizi', 'weight': 762},\n",
       " {'text': 'Dati', 'weight': 719},\n",
       " {'text': 'pagina', 'weight': 704},\n",
       " {'text': 'Provincia', 'weight': 697},\n",
       " {'text': '2017', 'weight': 695}]"
      ]
     },
     "execution_count": 48,
     "metadata": {},
     "output_type": "execute_result"
    }
   ],
   "source": []
  }
 ],
 "metadata": {
  "kernelspec": {
   "display_name": "Python 2",
   "language": "python",
   "name": "python2"
  },
  "language_info": {
   "codemirror_mode": {
    "name": "ipython",
    "version": 2
   },
   "file_extension": ".py",
   "mimetype": "text/x-python",
   "name": "python",
   "nbconvert_exporter": "python",
   "pygments_lexer": "ipython2",
   "version": "2.7.9"
  }
 },
 "nbformat": 4,
 "nbformat_minor": 2
}
