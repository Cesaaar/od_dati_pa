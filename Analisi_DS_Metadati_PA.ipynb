{
 "cells": [
  {
   "cell_type": "markdown",
   "metadata": {},
   "source": [
    "http://www.dati.gov.it/api/3/action/package_show?id= +ds_name\n",
    "\n",
    "http://www.dati.gov.it/api/3/action/package_show?id=circoscrizioni"
   ]
  },
  {
   "cell_type": "code",
   "execution_count": 7,
   "metadata": {
    "collapsed": true
   },
   "outputs": [],
   "source": [
    "import pandas as pd\n",
    "import numpy as np\n",
    "import matplotlib as mlt"
   ]
  },
  {
   "cell_type": "code",
   "execution_count": 3,
   "metadata": {
    "collapsed": false
   },
   "outputs": [],
   "source": [
    "df = pd.read_csv('2017-10-14_DSMetadatiPA.csv', delimiter=';')"
   ]
  },
  {
   "cell_type": "code",
   "execution_count": 8,
   "metadata": {
    "collapsed": false
   },
   "outputs": [
    {
     "data": {
      "text/plain": [
       "Unnamed: 0              18284\n",
       "ds_title                 2247\n",
       "_catalog_parent_name     2247\n",
       "gruppo                   2247\n",
       "note                     2247\n",
       "ultima_modifica          2247\n",
       "ds_name                 18284\n",
       "ds_id                    2247\n",
       "ds_license               2247\n",
       "url                      2227\n",
       "mymtype                  2039\n",
       "dtype: int64"
      ]
     },
     "execution_count": 8,
     "metadata": {},
     "output_type": "execute_result"
    }
   ],
   "source": [
    "df.count()"
   ]
  },
  {
   "cell_type": "code",
   "execution_count": 5,
   "metadata": {
    "collapsed": false
   },
   "outputs": [
    {
     "data": {
      "text/html": [
       "<div>\n",
       "<table border=\"1\" class=\"dataframe\">\n",
       "  <thead>\n",
       "    <tr style=\"text-align: right;\">\n",
       "      <th></th>\n",
       "      <th>Unnamed: 0</th>\n",
       "      <th>ds_title</th>\n",
       "      <th>_catalog_parent_name</th>\n",
       "      <th>gruppo</th>\n",
       "      <th>note</th>\n",
       "      <th>ultima_modifica</th>\n",
       "      <th>ds_name</th>\n",
       "      <th>ds_id</th>\n",
       "      <th>ds_license</th>\n",
       "      <th>url</th>\n",
       "      <th>mymtype</th>\n",
       "    </tr>\n",
       "  </thead>\n",
       "  <tbody>\n",
       "    <tr>\n",
       "      <th>0</th>\n",
       "      <td>0</td>\n",
       "      <td>NaN</td>\n",
       "      <td>NaN</td>\n",
       "      <td>NaN</td>\n",
       "      <td>NaN</td>\n",
       "      <td>NaN</td>\n",
       "      <td>circoscrizioni</td>\n",
       "      <td>NaN</td>\n",
       "      <td>NaN</td>\n",
       "      <td>NaN</td>\n",
       "      <td>NaN</td>\n",
       "    </tr>\n",
       "    <tr>\n",
       "      <th>1</th>\n",
       "      <td>1</td>\n",
       "      <td>Elezioni Amministrative 2014 - Eletti</td>\n",
       "      <td>Comune di Bari</td>\n",
       "      <td>Popolazione e società</td>\n",
       "      <td>&lt;p&gt;Gli eletti delle Amministrative  e Municipi...</td>\n",
       "      <td>\"16.06.2014\"</td>\n",
       "      <td>elezioni-amministrative-2014-eletti</td>\n",
       "      <td>ebad7b1c-ca8c-4dda-ac1f-a9f550e8fac6</td>\n",
       "      <td>CC0 1.0</td>\n",
       "      <td>NaN</td>\n",
       "      <td>NaN</td>\n",
       "    </tr>\n",
       "  </tbody>\n",
       "</table>\n",
       "</div>"
      ],
      "text/plain": [
       "   Unnamed: 0                               ds_title _catalog_parent_name  \\\n",
       "0           0                                    NaN                  NaN   \n",
       "1           1  Elezioni Amministrative 2014 - Eletti       Comune di Bari   \n",
       "\n",
       "                  gruppo                                               note  \\\n",
       "0                    NaN                                                NaN   \n",
       "1  Popolazione e società  <p>Gli eletti delle Amministrative  e Municipi...   \n",
       "\n",
       "  ultima_modifica                              ds_name  \\\n",
       "0             NaN                       circoscrizioni   \n",
       "1    \"16.06.2014\"  elezioni-amministrative-2014-eletti   \n",
       "\n",
       "                                  ds_id ds_license  url mymtype  \n",
       "0                                   NaN        NaN  NaN     NaN  \n",
       "1  ebad7b1c-ca8c-4dda-ac1f-a9f550e8fac6    CC0 1.0  NaN     NaN  "
      ]
     },
     "execution_count": 5,
     "metadata": {},
     "output_type": "execute_result"
    }
   ],
   "source": [
    "df.head(2)"
   ]
  },
  {
   "cell_type": "code",
   "execution_count": 24,
   "metadata": {
    "collapsed": false
   },
   "outputs": [
    {
     "data": {
      "text/plain": [
       "str"
      ]
     },
     "execution_count": 24,
     "metadata": {},
     "output_type": "execute_result"
    }
   ],
   "source": [
    "type(df['ds_title'][1])"
   ]
  },
  {
   "cell_type": "markdown",
   "metadata": {},
   "source": [
    "## Metadati Assenti\n",
    "\n",
    "1. Potrebbe avere NAN anche solo se un'operazione nel blocco try va in errore.. da capire quale, forse meglio mettere tanti try e catch per ogni campo"
   ]
  },
  {
   "cell_type": "code",
   "execution_count": 27,
   "metadata": {
    "collapsed": false
   },
   "outputs": [
    {
     "data": {
      "text/plain": [
       "Unnamed: 0              16037\n",
       "ds_title                    0\n",
       "_catalog_parent_name        0\n",
       "gruppo                      0\n",
       "note                        0\n",
       "ultima_modifica             0\n",
       "ds_name                 16037\n",
       "ds_id                       0\n",
       "ds_license                  0\n",
       "url                         0\n",
       "mymtype                     0\n",
       "dtype: int64"
      ]
     },
     "execution_count": 27,
     "metadata": {},
     "output_type": "execute_result"
    }
   ],
   "source": [
    "df[pd.isnull(df['ds_title'])].count()"
   ]
  },
  {
   "cell_type": "code",
   "execution_count": 31,
   "metadata": {
    "collapsed": false
   },
   "outputs": [
    {
     "data": {
      "text/html": [
       "<div>\n",
       "<table border=\"1\" class=\"dataframe\">\n",
       "  <thead>\n",
       "    <tr style=\"text-align: right;\">\n",
       "      <th></th>\n",
       "      <th>Unnamed: 0</th>\n",
       "      <th>ds_title</th>\n",
       "      <th>_catalog_parent_name</th>\n",
       "      <th>gruppo</th>\n",
       "      <th>note</th>\n",
       "      <th>ultima_modifica</th>\n",
       "      <th>ds_name</th>\n",
       "      <th>ds_id</th>\n",
       "      <th>ds_license</th>\n",
       "      <th>url</th>\n",
       "      <th>mymtype</th>\n",
       "    </tr>\n",
       "  </thead>\n",
       "  <tbody>\n",
       "    <tr>\n",
       "      <th>0</th>\n",
       "      <td>0</td>\n",
       "      <td>NaN</td>\n",
       "      <td>NaN</td>\n",
       "      <td>NaN</td>\n",
       "      <td>NaN</td>\n",
       "      <td>NaN</td>\n",
       "      <td>circoscrizioni</td>\n",
       "      <td>NaN</td>\n",
       "      <td>NaN</td>\n",
       "      <td>NaN</td>\n",
       "      <td>NaN</td>\n",
       "    </tr>\n",
       "    <tr>\n",
       "      <th>7</th>\n",
       "      <td>7</td>\n",
       "      <td>NaN</td>\n",
       "      <td>NaN</td>\n",
       "      <td>NaN</td>\n",
       "      <td>NaN</td>\n",
       "      <td>NaN</td>\n",
       "      <td>organico-comune-bari</td>\n",
       "      <td>NaN</td>\n",
       "      <td>NaN</td>\n",
       "      <td>NaN</td>\n",
       "      <td>NaN</td>\n",
       "    </tr>\n",
       "    <tr>\n",
       "      <th>9</th>\n",
       "      <td>9</td>\n",
       "      <td>NaN</td>\n",
       "      <td>NaN</td>\n",
       "      <td>NaN</td>\n",
       "      <td>NaN</td>\n",
       "      <td>NaN</td>\n",
       "      <td>aree-verdi</td>\n",
       "      <td>NaN</td>\n",
       "      <td>NaN</td>\n",
       "      <td>NaN</td>\n",
       "      <td>NaN</td>\n",
       "    </tr>\n",
       "    <tr>\n",
       "      <th>12</th>\n",
       "      <td>12</td>\n",
       "      <td>NaN</td>\n",
       "      <td>NaN</td>\n",
       "      <td>NaN</td>\n",
       "      <td>NaN</td>\n",
       "      <td>NaN</td>\n",
       "      <td>anticorruzione-2013</td>\n",
       "      <td>NaN</td>\n",
       "      <td>NaN</td>\n",
       "      <td>NaN</td>\n",
       "      <td>NaN</td>\n",
       "    </tr>\n",
       "    <tr>\n",
       "      <th>16</th>\n",
       "      <td>16</td>\n",
       "      <td>NaN</td>\n",
       "      <td>NaN</td>\n",
       "      <td>NaN</td>\n",
       "      <td>NaN</td>\n",
       "      <td>NaN</td>\n",
       "      <td>monumenti</td>\n",
       "      <td>NaN</td>\n",
       "      <td>NaN</td>\n",
       "      <td>NaN</td>\n",
       "      <td>NaN</td>\n",
       "    </tr>\n",
       "  </tbody>\n",
       "</table>\n",
       "</div>"
      ],
      "text/plain": [
       "    Unnamed: 0 ds_title _catalog_parent_name gruppo note ultima_modifica  \\\n",
       "0            0      NaN                  NaN    NaN  NaN             NaN   \n",
       "7            7      NaN                  NaN    NaN  NaN             NaN   \n",
       "9            9      NaN                  NaN    NaN  NaN             NaN   \n",
       "12          12      NaN                  NaN    NaN  NaN             NaN   \n",
       "16          16      NaN                  NaN    NaN  NaN             NaN   \n",
       "\n",
       "                 ds_name ds_id ds_license  url mymtype  \n",
       "0         circoscrizioni   NaN        NaN  NaN     NaN  \n",
       "7   organico-comune-bari   NaN        NaN  NaN     NaN  \n",
       "9             aree-verdi   NaN        NaN  NaN     NaN  \n",
       "12   anticorruzione-2013   NaN        NaN  NaN     NaN  \n",
       "16             monumenti   NaN        NaN  NaN     NaN  "
      ]
     },
     "execution_count": 31,
     "metadata": {},
     "output_type": "execute_result"
    }
   ],
   "source": [
    "df[pd.isnull(df['ds_title'])].head(5)"
   ]
  },
  {
   "cell_type": "markdown",
   "metadata": {},
   "source": [
    "Test a campione:\n",
    "\n",
    "1. circoscrizioni, aree-verdi, monumenti -> Non ha metadati è ok\n",
    "2. organico-comune-bari, anticorruzione-2013\n",
    "    - ha metadati\n",
    "    - Ultima Modifica non è l'ultimo valore. Usa il campo: metadata_modified del dataset\n",
    "    - gruppo non c'è, metti try e catch\n",
    "    - Resource, prendi direttamente l'ultimo, implementa una funzione che va per priorità.. se c'è rdf  prende rdf, altrimenti csv, altrimenti xlsx, altrimenti xls, altrimenti l'ultimo"
   ]
  }
 ],
 "metadata": {
  "kernelspec": {
   "display_name": "Python 3",
   "language": "python",
   "name": "python3"
  },
  "language_info": {
   "codemirror_mode": {
    "name": "ipython",
    "version": 3
   },
   "file_extension": ".py",
   "mimetype": "text/x-python",
   "name": "python",
   "nbconvert_exporter": "python",
   "pygments_lexer": "ipython3",
   "version": "3.6.0"
  }
 },
 "nbformat": 4,
 "nbformat_minor": 2
}
