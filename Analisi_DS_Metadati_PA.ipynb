{
 "cells": [
  {
   "cell_type": "markdown",
   "metadata": {},
   "source": [
    "# Analisi dei Metadati dei Dataset della PA\n",
    "\n",
    "To Do - API_Dati_Pubblici\n",
    "1. Verifica i DS senza Metadati\n",
    "2. Implementa funzione in API_Dati_Pubblici che recupera in ordine di importanza le resources con un certo mymetype sulla base del machine-readble, nel seguente ordine: json, rdf, xml, csv,xls, altrimenti quello che c'è\n",
    "3. Schedula scarico mensile e ingestion, oppure automatizza tweet con un grafico\n",
    "\n",
    "To Do - Analisi DS\n",
    "1. Numero Dataset\n",
    "2. Numero Dataset senza metadati\n",
    "3. Group by Catalogo -> Bar chart\n",
    "4. Group by Gruppo -> Bar Chart\n",
    "5. Group by Ultima Modifica -> Time series chart\n",
    "6. Word Cloud su Titolo -> vedi incident\n",
    "7. Word Cloud su Notes -> vedi incident"
   ]
  },
  {
   "cell_type": "code",
   "execution_count": 2,
   "metadata": {},
   "outputs": [
    {
     "name": "stdout",
     "output_type": "stream",
     "text": [
      "Populating the interactive namespace from numpy and matplotlib\n"
     ]
    }
   ],
   "source": [
    "import pandas as pd\n",
    "import numpy as np\n",
    "import matplotlib.pyplot as plt\n",
    "plt.style.use('ggplot')\n",
    "get_ipython().magic('pylab inline')"
   ]
  },
  {
   "cell_type": "code",
   "execution_count": 9,
   "metadata": {},
   "outputs": [],
   "source": [
    "df = pd.read_csv('2017-10-17_DSMetadatiPA.csv', delimiter=';')"
   ]
  },
  {
   "cell_type": "markdown",
   "metadata": {},
   "source": [
    "### 1. Numero Dataset PA"
   ]
  },
  {
   "cell_type": "code",
   "execution_count": 10,
   "metadata": {},
   "outputs": [
    {
     "data": {
      "text/plain": [
       "18161"
      ]
     },
     "execution_count": 10,
     "metadata": {},
     "output_type": "execute_result"
    }
   ],
   "source": [
    "df['ds_name'].count()"
   ]
  },
  {
   "cell_type": "markdown",
   "metadata": {},
   "source": [
    "### 2. Numero Dataset PA senza Metadati"
   ]
  },
  {
   "cell_type": "code",
   "execution_count": 11,
   "metadata": {},
   "outputs": [
    {
     "data": {
      "text/plain": [
       "4097"
      ]
     },
     "execution_count": 11,
     "metadata": {},
     "output_type": "execute_result"
    }
   ],
   "source": [
    "df[pd.isnull(df['ds_title'])]['ds_name'].count()"
   ]
  },
  {
   "cell_type": "code",
   "execution_count": 13,
   "metadata": {},
   "outputs": [
    {
     "data": {
      "text/html": [
       "<div>\n",
       "<style>\n",
       "    .dataframe thead tr:only-child th {\n",
       "        text-align: right;\n",
       "    }\n",
       "\n",
       "    .dataframe thead th {\n",
       "        text-align: left;\n",
       "    }\n",
       "\n",
       "    .dataframe tbody tr th {\n",
       "        vertical-align: top;\n",
       "    }\n",
       "</style>\n",
       "<table border=\"1\" class=\"dataframe\">\n",
       "  <thead>\n",
       "    <tr style=\"text-align: right;\">\n",
       "      <th></th>\n",
       "      <th>Unnamed: 0</th>\n",
       "      <th>ds_title</th>\n",
       "      <th>_catalog_parent_name</th>\n",
       "      <th>gruppo</th>\n",
       "      <th>note</th>\n",
       "      <th>ultima_modifica</th>\n",
       "      <th>ds_name</th>\n",
       "      <th>ds_id</th>\n",
       "      <th>ds_license</th>\n",
       "      <th>url</th>\n",
       "      <th>mymtype</th>\n",
       "    </tr>\n",
       "  </thead>\n",
       "  <tbody>\n",
       "    <tr>\n",
       "      <th>17822</th>\n",
       "      <td>17822</td>\n",
       "      <td>NaN</td>\n",
       "      <td>NaN</td>\n",
       "      <td>NaN</td>\n",
       "      <td>NaN</td>\n",
       "      <td>NaN</td>\n",
       "      <td>flussi-turistici-regione-2015</td>\n",
       "      <td>NaN</td>\n",
       "      <td>NaN</td>\n",
       "      <td>NaN</td>\n",
       "      <td>NaN</td>\n",
       "    </tr>\n",
       "    <tr>\n",
       "      <th>17909</th>\n",
       "      <td>17909</td>\n",
       "      <td>NaN</td>\n",
       "      <td>NaN</td>\n",
       "      <td>NaN</td>\n",
       "      <td>NaN</td>\n",
       "      <td>NaN</td>\n",
       "      <td>corruzione</td>\n",
       "      <td>NaN</td>\n",
       "      <td>NaN</td>\n",
       "      <td>NaN</td>\n",
       "      <td>NaN</td>\n",
       "    </tr>\n",
       "    <tr>\n",
       "      <th>18034</th>\n",
       "      <td>18034</td>\n",
       "      <td>NaN</td>\n",
       "      <td>NaN</td>\n",
       "      <td>NaN</td>\n",
       "      <td>NaN</td>\n",
       "      <td>NaN</td>\n",
       "      <td>anpil</td>\n",
       "      <td>NaN</td>\n",
       "      <td>NaN</td>\n",
       "      <td>NaN</td>\n",
       "      <td>NaN</td>\n",
       "    </tr>\n",
       "    <tr>\n",
       "      <th>18146</th>\n",
       "      <td>18146</td>\n",
       "      <td>NaN</td>\n",
       "      <td>NaN</td>\n",
       "      <td>NaN</td>\n",
       "      <td>NaN</td>\n",
       "      <td>NaN</td>\n",
       "      <td>popolazione-residente</td>\n",
       "      <td>NaN</td>\n",
       "      <td>NaN</td>\n",
       "      <td>NaN</td>\n",
       "      <td>NaN</td>\n",
       "    </tr>\n",
       "    <tr>\n",
       "      <th>18147</th>\n",
       "      <td>18147</td>\n",
       "      <td>NaN</td>\n",
       "      <td>NaN</td>\n",
       "      <td>NaN</td>\n",
       "      <td>NaN</td>\n",
       "      <td>NaN</td>\n",
       "      <td>popolazione-straniera</td>\n",
       "      <td>NaN</td>\n",
       "      <td>NaN</td>\n",
       "      <td>NaN</td>\n",
       "      <td>NaN</td>\n",
       "    </tr>\n",
       "  </tbody>\n",
       "</table>\n",
       "</div>"
      ],
      "text/plain": [
       "       Unnamed: 0 ds_title _catalog_parent_name gruppo note ultima_modifica  \\\n",
       "17822       17822      NaN                  NaN    NaN  NaN             NaN   \n",
       "17909       17909      NaN                  NaN    NaN  NaN             NaN   \n",
       "18034       18034      NaN                  NaN    NaN  NaN             NaN   \n",
       "18146       18146      NaN                  NaN    NaN  NaN             NaN   \n",
       "18147       18147      NaN                  NaN    NaN  NaN             NaN   \n",
       "\n",
       "                             ds_name ds_id ds_license  url mymtype  \n",
       "17822  flussi-turistici-regione-2015   NaN        NaN  NaN     NaN  \n",
       "17909                     corruzione   NaN        NaN  NaN     NaN  \n",
       "18034                          anpil   NaN        NaN  NaN     NaN  \n",
       "18146          popolazione-residente   NaN        NaN  NaN     NaN  \n",
       "18147          popolazione-straniera   NaN        NaN  NaN     NaN  "
      ]
     },
     "execution_count": 13,
     "metadata": {},
     "output_type": "execute_result"
    }
   ],
   "source": [
    "# Check DS senza metadati\n",
    "# http://www.dati.gov.it/api/3/action/package_show?id=popolazione-straniera\n",
    "df_test = df[pd.isnull(df['ds_title'])][-5:]\n",
    "df_test"
   ]
  },
  {
   "cell_type": "markdown",
   "metadata": {},
   "source": [
    "Metti try e catch su tutti i campi.. in questo caso manca Ultima_Modifica"
   ]
  },
  {
   "cell_type": "code",
   "execution_count": 14,
   "metadata": {},
   "outputs": [
    {
     "data": {
      "text/html": [
       "<div>\n",
       "<style>\n",
       "    .dataframe thead tr:only-child th {\n",
       "        text-align: right;\n",
       "    }\n",
       "\n",
       "    .dataframe thead th {\n",
       "        text-align: left;\n",
       "    }\n",
       "\n",
       "    .dataframe tbody tr th {\n",
       "        vertical-align: top;\n",
       "    }\n",
       "</style>\n",
       "<table border=\"1\" class=\"dataframe\">\n",
       "  <thead>\n",
       "    <tr style=\"text-align: right;\">\n",
       "      <th></th>\n",
       "      <th>Unnamed: 0</th>\n",
       "      <th>ds_title</th>\n",
       "      <th>_catalog_parent_name</th>\n",
       "      <th>gruppo</th>\n",
       "      <th>note</th>\n",
       "      <th>ultima_modifica</th>\n",
       "      <th>ds_name</th>\n",
       "      <th>ds_id</th>\n",
       "      <th>ds_license</th>\n",
       "      <th>url</th>\n",
       "      <th>mymtype</th>\n",
       "    </tr>\n",
       "  </thead>\n",
       "  <tbody>\n",
       "    <tr>\n",
       "      <th>0</th>\n",
       "      <td>0</td>\n",
       "      <td>NaN</td>\n",
       "      <td>NaN</td>\n",
       "      <td>NaN</td>\n",
       "      <td>NaN</td>\n",
       "      <td>NaN</td>\n",
       "      <td>circoscrizioni</td>\n",
       "      <td>NaN</td>\n",
       "      <td>NaN</td>\n",
       "      <td>NaN</td>\n",
       "      <td>NaN</td>\n",
       "    </tr>\n",
       "    <tr>\n",
       "      <th>1</th>\n",
       "      <td>1</td>\n",
       "      <td>Elezioni Amministrative 2014 - Eletti</td>\n",
       "      <td>Comune di Bari</td>\n",
       "      <td>Popolazione e società</td>\n",
       "      <td>&lt;p&gt;Gli eletti delle Amministrative  e Municipi...</td>\n",
       "      <td>2014-12-17</td>\n",
       "      <td>elezioni-amministrative-2014-eletti</td>\n",
       "      <td>ebad7b1c-ca8c-4dda-ac1f-a9f550e8fac6</td>\n",
       "      <td>CC0 1.0</td>\n",
       "      <td>NaN</td>\n",
       "      <td>NaN</td>\n",
       "    </tr>\n",
       "  </tbody>\n",
       "</table>\n",
       "</div>"
      ],
      "text/plain": [
       "   Unnamed: 0                               ds_title _catalog_parent_name  \\\n",
       "0           0                                    NaN                  NaN   \n",
       "1           1  Elezioni Amministrative 2014 - Eletti       Comune di Bari   \n",
       "\n",
       "                  gruppo                                               note  \\\n",
       "0                    NaN                                                NaN   \n",
       "1  Popolazione e società  <p>Gli eletti delle Amministrative  e Municipi...   \n",
       "\n",
       "  ultima_modifica                              ds_name  \\\n",
       "0             NaN                       circoscrizioni   \n",
       "1      2014-12-17  elezioni-amministrative-2014-eletti   \n",
       "\n",
       "                                  ds_id ds_license  url mymtype  \n",
       "0                                   NaN        NaN  NaN     NaN  \n",
       "1  ebad7b1c-ca8c-4dda-ac1f-a9f550e8fac6    CC0 1.0  NaN     NaN  "
      ]
     },
     "execution_count": 14,
     "metadata": {},
     "output_type": "execute_result"
    }
   ],
   "source": [
    "df.head(2)"
   ]
  },
  {
   "cell_type": "markdown",
   "metadata": {},
   "source": [
    "### 3. Group by Catalogo Padre"
   ]
  },
  {
   "cell_type": "code",
   "execution_count": 15,
   "metadata": {},
   "outputs": [],
   "source": [
    "df_cat = df.groupby(['_catalog_parent_name']).count().reset_index().sort_values(by='ds_name', ascending=False).set_index('_catalog_parent_name')"
   ]
  },
  {
   "cell_type": "code",
   "execution_count": 16,
   "metadata": {},
   "outputs": [
    {
     "data": {
      "text/html": [
       "<div>\n",
       "<style>\n",
       "    .dataframe thead tr:only-child th {\n",
       "        text-align: right;\n",
       "    }\n",
       "\n",
       "    .dataframe thead th {\n",
       "        text-align: left;\n",
       "    }\n",
       "\n",
       "    .dataframe tbody tr th {\n",
       "        vertical-align: top;\n",
       "    }\n",
       "</style>\n",
       "<table border=\"1\" class=\"dataframe\">\n",
       "  <thead>\n",
       "    <tr style=\"text-align: right;\">\n",
       "      <th></th>\n",
       "      <th>Unnamed: 0</th>\n",
       "      <th>ds_title</th>\n",
       "      <th>gruppo</th>\n",
       "      <th>note</th>\n",
       "      <th>ultima_modifica</th>\n",
       "      <th>ds_name</th>\n",
       "      <th>ds_id</th>\n",
       "      <th>ds_license</th>\n",
       "      <th>url</th>\n",
       "      <th>mymtype</th>\n",
       "    </tr>\n",
       "    <tr>\n",
       "      <th>_catalog_parent_name</th>\n",
       "      <th></th>\n",
       "      <th></th>\n",
       "      <th></th>\n",
       "      <th></th>\n",
       "      <th></th>\n",
       "      <th></th>\n",
       "      <th></th>\n",
       "      <th></th>\n",
       "      <th></th>\n",
       "      <th></th>\n",
       "    </tr>\n",
       "  </thead>\n",
       "  <tbody>\n",
       "    <tr>\n",
       "      <th>Dati trentino</th>\n",
       "      <td>5619</td>\n",
       "      <td>5619</td>\n",
       "      <td>1326</td>\n",
       "      <td>5619</td>\n",
       "      <td>5619</td>\n",
       "      <td>5619</td>\n",
       "      <td>5619</td>\n",
       "      <td>5422</td>\n",
       "      <td>5561</td>\n",
       "      <td>5464</td>\n",
       "    </tr>\n",
       "    <tr>\n",
       "      <th>Regione Toscana</th>\n",
       "      <td>2147</td>\n",
       "      <td>2147</td>\n",
       "      <td>1339</td>\n",
       "      <td>2135</td>\n",
       "      <td>2147</td>\n",
       "      <td>2147</td>\n",
       "      <td>2147</td>\n",
       "      <td>2071</td>\n",
       "      <td>2133</td>\n",
       "      <td>1946</td>\n",
       "    </tr>\n",
       "  </tbody>\n",
       "</table>\n",
       "</div>"
      ],
      "text/plain": [
       "                      Unnamed: 0  ds_title  gruppo  note  ultima_modifica  \\\n",
       "_catalog_parent_name                                                        \n",
       "Dati trentino               5619      5619    1326  5619             5619   \n",
       "Regione Toscana             2147      2147    1339  2135             2147   \n",
       "\n",
       "                      ds_name  ds_id  ds_license   url  mymtype  \n",
       "_catalog_parent_name                                             \n",
       "Dati trentino            5619   5619        5422  5561     5464  \n",
       "Regione Toscana          2147   2147        2071  2133     1946  "
      ]
     },
     "execution_count": 16,
     "metadata": {},
     "output_type": "execute_result"
    }
   ],
   "source": [
    "df_cat.head(2)"
   ]
  },
  {
   "cell_type": "code",
   "execution_count": 17,
   "metadata": {},
   "outputs": [
    {
     "data": {
      "text/plain": [
       "12946"
      ]
     },
     "execution_count": 17,
     "metadata": {},
     "output_type": "execute_result"
    }
   ],
   "source": [
    "# Primi 10 elementi per numero di dataset\n",
    "df_cat_10 = df_cat['ds_name'][:10]\n",
    "df_cat_10.sum()"
   ]
  },
  {
   "cell_type": "code",
   "execution_count": 18,
   "metadata": {},
   "outputs": [
    {
     "data": {
      "text/plain": [
       "17"
      ]
     },
     "execution_count": 18,
     "metadata": {},
     "output_type": "execute_result"
    }
   ],
   "source": [
    "# resto degli elementi\n",
    "df_cat['ds_name'][11:].count()"
   ]
  },
  {
   "cell_type": "code",
   "execution_count": 22,
   "metadata": {},
   "outputs": [
    {
     "data": {
      "text/plain": [
       "823"
      ]
     },
     "execution_count": 22,
     "metadata": {},
     "output_type": "execute_result"
    }
   ],
   "source": [
    "# Numero di dataset sul resto degli elementi\n",
    "df_cat['ds_name'][11:].sum()"
   ]
  },
  {
   "cell_type": "code",
   "execution_count": 23,
   "metadata": {},
   "outputs": [
    {
     "data": {
      "text/plain": [
       "_catalog_parent_name\n",
       "Dati trentino               5619\n",
       "Regione Toscana             2147\n",
       "INPS                        1581\n",
       "Comune di Albano Laziale    1154\n",
       "Regione Sardegna             577\n",
       "Dati Veneto                  450\n",
       "Dati Emilia Romagna          400\n",
       "Comune di Lecce              365\n",
       "Regione Umbria               346\n",
       "Dati Basilicata              307\n",
       "Name: ds_name, dtype: int64"
      ]
     },
     "execution_count": 23,
     "metadata": {},
     "output_type": "execute_result"
    }
   ],
   "source": [
    "# Lista Cataloghi -> Occhio alle label settate a mano\n",
    "df_cat_10"
   ]
  },
  {
   "cell_type": "code",
   "execution_count": 24,
   "metadata": {},
   "outputs": [
    {
     "data": {
      "image/png": "[encoded data removed]",
      "text/plain": [
       "<matplotlib.figure.Figure at 0x6c6eced0>"
      ]
     },
     "metadata": {},
     "output_type": "display_data"
    }
   ],
   "source": [
    "#Grafico\n",
    "style.use('fivethirtyeight')\n",
    "colors = [['red']]\n",
    "tp = df_cat_10.plot(\n",
    "    kind='bar',\n",
    "    legend = False,\n",
    "    figsize = (10,4),\n",
    "    color = colors)\n",
    "\n",
    "for p in tp.patches:\n",
    "    tp.annotate(str(int(round(p.get_height()))), (p.get_x() * 1.005, p.get_height() * 1.005), ha='center', va='center', xytext=(15, 5), textcoords='offset points',fontsize=9)\n",
    "    tp.plot()\n",
    "\n",
    "tp.tick_params(axis = 'both', which = 'major', labelsize = 10)\n",
    "tp.set_xlabel('Catalogo',fontsize=8)\n",
    "tp.set_ylabel('n. dataset',fontsize=8)\n",
    "\n",
    "tp.axhline(y = 0, color = 'black', linewidth = 4, alpha = 0.7)\n",
    "\n",
    "labels = [item.get_text() for item in tp.get_xticklabels()]\n",
    "labels[0] = 'Dati \\nTrentino'\n",
    "labels[1] = 'Regione \\nToscana'\n",
    "labels[3] = 'Dati \\nVeneto'\n",
    "labels[4] = 'Comune \\nLecce'\n",
    "labels[5] = 'Dati Emilia \\nRomagna'\n",
    "labels[6] = 'Open Data \\nAlto Adige'\n",
    "labels[7] = 'Dati \\nBasilicata'\n",
    "labels[8] = 'Regione \\nLazio'\n",
    "labels[9] = 'Regione \\nUmbria'\n",
    "\n",
    "tp.set_xticklabels(labels)\n",
    "plt.xticks(rotation=0)\n",
    "\n",
    "# Adding a title and a subtitle\n",
    "tp.text(x = -1.0, y = 7400, s = \"I dati aperti della Pubblica Amministrazione\",\n",
    "               fontsize = 14, weight = 'bold', alpha = .75)\n",
    "tp.text(x = -1.0, y = 6700, \n",
    "               s = u\"I primi 10 cataloghi sorgente producono oltre il 90% dei dataset. Su un totale di 18.000 dataset, xxxmila sono prodotti \\ndai primi 10 Enti Pubblici.\",\n",
    "              fontsize = 10, alpha = .85)\n",
    "\n",
    "text = tp.text(x = -1.2, y = -1500,\n",
    "    s = 'www.ildatomancante.it                                                                                                                                                        Fonte: dati.gov.it',\n",
    "    fontsize = 10, color = '#f0f0f0', backgroundcolor = 'grey')\n",
    "text.set_url('http://www.ildatomancante.it')\n",
    "\n",
    "fig_posts = tp.get_figure()\n",
    "fig_posts.savefig('Cataloghi Dataset.png', format='png', dpi=300,bbox_inches='tight')"
   ]
  },
  {
   "cell_type": "markdown",
   "metadata": {},
   "source": [
    "### 4. Group by Gruppo"
   ]
  },
  {
   "cell_type": "code",
   "execution_count": 28,
   "metadata": {},
   "outputs": [],
   "source": [
    "df_grp= df.groupby(['gruppo']).count().reset_index().sort_values(by='ds_name', ascending=False).set_index('gruppo')"
   ]
  },
  {
   "cell_type": "code",
   "execution_count": 30,
   "metadata": {},
   "outputs": [
    {
     "data": {
      "text/html": [
       "<div>\n",
       "<style>\n",
       "    .dataframe thead tr:only-child th {\n",
       "        text-align: right;\n",
       "    }\n",
       "\n",
       "    .dataframe thead th {\n",
       "        text-align: left;\n",
       "    }\n",
       "\n",
       "    .dataframe tbody tr th {\n",
       "        vertical-align: top;\n",
       "    }\n",
       "</style>\n",
       "<table border=\"1\" class=\"dataframe\">\n",
       "  <thead>\n",
       "    <tr style=\"text-align: right;\">\n",
       "      <th></th>\n",
       "      <th>Unnamed: 0</th>\n",
       "      <th>ds_title</th>\n",
       "      <th>_catalog_parent_name</th>\n",
       "      <th>note</th>\n",
       "      <th>ultima_modifica</th>\n",
       "      <th>ds_name</th>\n",
       "      <th>ds_id</th>\n",
       "      <th>ds_license</th>\n",
       "      <th>url</th>\n",
       "      <th>mymtype</th>\n",
       "    </tr>\n",
       "    <tr>\n",
       "      <th>gruppo</th>\n",
       "      <th></th>\n",
       "      <th></th>\n",
       "      <th></th>\n",
       "      <th></th>\n",
       "      <th></th>\n",
       "      <th></th>\n",
       "      <th></th>\n",
       "      <th></th>\n",
       "      <th></th>\n",
       "      <th></th>\n",
       "    </tr>\n",
       "  </thead>\n",
       "  <tbody>\n",
       "    <tr>\n",
       "      <th>Popolazione e società</th>\n",
       "      <td>1612</td>\n",
       "      <td>1612</td>\n",
       "      <td>1612</td>\n",
       "      <td>1605</td>\n",
       "      <td>1612</td>\n",
       "      <td>1612</td>\n",
       "      <td>1612</td>\n",
       "      <td>1589</td>\n",
       "      <td>1609</td>\n",
       "      <td>1606</td>\n",
       "    </tr>\n",
       "    <tr>\n",
       "      <th>Ambiente</th>\n",
       "      <td>1290</td>\n",
       "      <td>1290</td>\n",
       "      <td>1290</td>\n",
       "      <td>1280</td>\n",
       "      <td>1290</td>\n",
       "      <td>1290</td>\n",
       "      <td>1290</td>\n",
       "      <td>679</td>\n",
       "      <td>1273</td>\n",
       "      <td>1088</td>\n",
       "    </tr>\n",
       "  </tbody>\n",
       "</table>\n",
       "</div>"
      ],
      "text/plain": [
       "                       Unnamed: 0  ds_title  _catalog_parent_name  note  \\\n",
       "gruppo                                                                    \n",
       "Popolazione e società        1612      1612                  1612  1605   \n",
       "Ambiente                     1290      1290                  1290  1280   \n",
       "\n",
       "                       ultima_modifica  ds_name  ds_id  ds_license   url  \\\n",
       "gruppo                                                                     \n",
       "Popolazione e società             1612     1612   1612        1589  1609   \n",
       "Ambiente                          1290     1290   1290         679  1273   \n",
       "\n",
       "                       mymtype  \n",
       "gruppo                          \n",
       "Popolazione e società     1606  \n",
       "Ambiente                  1088  "
      ]
     },
     "execution_count": 30,
     "metadata": {},
     "output_type": "execute_result"
    }
   ],
   "source": [
    "df_grp.head(2)"
   ]
  },
  {
   "cell_type": "code",
   "execution_count": 32,
   "metadata": {},
   "outputs": [
    {
     "data": {
      "text/plain": [
       "5024"
      ]
     },
     "execution_count": 32,
     "metadata": {},
     "output_type": "execute_result"
    }
   ],
   "source": [
    "# Primi 10 elementi per numero di dataset\n",
    "df_grp_10 = df_grp['ds_name'][:10]\n",
    "df_grp_10.sum()"
   ]
  },
  {
   "cell_type": "code",
   "execution_count": 33,
   "metadata": {},
   "outputs": [
    {
     "data": {
      "text/plain": [
       "2"
      ]
     },
     "execution_count": 33,
     "metadata": {},
     "output_type": "execute_result"
    }
   ],
   "source": [
    "# resto degli elementi\n",
    "df_grp['ds_name'][11:].count()"
   ]
  },
  {
   "cell_type": "code",
   "execution_count": 34,
   "metadata": {},
   "outputs": [
    {
     "data": {
      "text/plain": [
       "18"
      ]
     },
     "execution_count": 34,
     "metadata": {},
     "output_type": "execute_result"
    }
   ],
   "source": [
    "# Numero di dataset sul resto degli elementi\n",
    "df_grp['ds_name'][11:].sum()"
   ]
  },
  {
   "cell_type": "code",
   "execution_count": 35,
   "metadata": {},
   "outputs": [
    {
     "data": {
      "text/plain": [
       "gruppo\n",
       "Popolazione e società                                     1612\n",
       "Ambiente                                                  1290\n",
       "Istruzione, cultura e sport                               1042\n",
       "Economia e finanze                                         423\n",
       "Governo e settore pubblico                                 388\n",
       "Agricoltura, pesca, silvicoltura e prodotti alimentari      86\n",
       "Trasporti                                                   66\n",
       "Salute                                                      60\n",
       "Regioni e città                                             33\n",
       "Giustizia, sistema giuridico e sicurezza pubblica           24\n",
       "Name: ds_name, dtype: int64"
      ]
     },
     "execution_count": 35,
     "metadata": {},
     "output_type": "execute_result"
    }
   ],
   "source": [
    "df_grp_10"
   ]
  },
  {
   "cell_type": "code",
   "execution_count": 48,
   "metadata": {},
   "outputs": [
    {
     "data": {
      "image/png": "[encoded data removed]",
      "text/plain": [
       "<matplotlib.figure.Figure at 0x6b43c9f0>"
      ]
     },
     "metadata": {},
     "output_type": "display_data"
    }
   ],
   "source": [
    "#Grafico\n",
    "style.use('fivethirtyeight')\n",
    "colors = [['red']]\n",
    "tp = df_grp_10.plot(\n",
    "    kind='bar',\n",
    "    legend = False,\n",
    "    figsize = (10,4),\n",
    "    color = colors)\n",
    "\n",
    "for p in tp.patches:\n",
    "    tp.annotate(str(int(round(p.get_height()))), (p.get_x() * 1.005, p.get_height() * 1.005), ha='center', va='center', xytext=(15, 5), textcoords='offset points',fontsize=9)\n",
    "    tp.plot()\n",
    "\n",
    "tp.tick_params(axis = 'both', which = 'major', labelsize = 10)\n",
    "tp.set_xlabel('Gruppo',fontsize=8)\n",
    "tp.set_ylabel('n. dataset',fontsize=8)\n",
    "\n",
    "tp.axhline(y = 0, color = 'black', linewidth = 4, alpha = 0.7)\n",
    "\n",
    "labels = [item.get_text() for item in tp.get_xticklabels()]\n",
    "labels[0] = u'Popolazione \\ne società'\n",
    "labels[1] = 'Ambiente'\n",
    "labels[2] = 'Istruzione, \\ncultura \\ne sport'\n",
    "labels[3] = 'Economia \\ne finanze'\n",
    "labels[4] = 'Governo e \\nsettore \\npubblico'\n",
    "labels[5] = 'Agricoltura'\n",
    "labels[6] = 'Trasporti'\n",
    "labels[7] = 'Salute'\n",
    "labels[8] = u'Regioni \\ne città'\n",
    "labels[9] = 'Giustizia'\n",
    "\n",
    "tp.set_xticklabels(labels)\n",
    "plt.xticks(rotation=0)\n",
    "\n",
    "# Adding a title and a subtitle\n",
    "tp.text(x = -1.0, y = 2150, s = \"I dati aperti della Pubblica Amministrazione\",\n",
    "               fontsize = 14, weight = 'bold', alpha = .75)\n",
    "tp.text(x = -1.0, y = 2000, \n",
    "               s = u\"Su ca.18.000 dataset solo in 5.000 hanno il campo gruppo popolato.\",\n",
    "              fontsize = 10, alpha = .85)\n",
    "\n",
    "text = tp.text(x = -1.2, y = -500,\n",
    "    s = 'www.ildatomancante.it                                                                                                                                                        Fonte: dati.gov.it',\n",
    "    fontsize = 10, color = '#f0f0f0', backgroundcolor = 'grey')\n",
    "text.set_url('http://www.ildatomancante.it')\n",
    "\n",
    "fig_posts = tp.get_figure()\n",
    "fig_posts.savefig('Gruppi Dataset.svg', format='svg', dpi=300,bbox_inches='tight')\n",
    "fig_posts.savefig('Gruppi Dataset.png', format='png', dpi=300,bbox_inches='tight')"
   ]
  }
 ],
 "metadata": {
  "kernelspec": {
   "display_name": "Python 2",
   "language": "python",
   "name": "python2"
  },
  "language_info": {
   "codemirror_mode": {
    "name": "ipython",
    "version": 2
   },
   "file_extension": ".py",
   "mimetype": "text/x-python",
   "name": "python",
   "nbconvert_exporter": "python",
   "pygments_lexer": "ipython2",
   "version": "2.7.9"
  }
 },
 "nbformat": 4,
 "nbformat_minor": 2
}
