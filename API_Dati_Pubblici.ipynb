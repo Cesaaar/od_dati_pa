{
 "cells": [
  {
   "cell_type": "code",
   "execution_count": 168,
   "metadata": {
    "collapsed": true
   },
   "outputs": [],
   "source": [
    "#import sys\n",
    "#reload(sys)\n",
    "#sys.setdefaultencoding(\"latin-1\")"
   ]
  },
  {
   "cell_type": "markdown",
   "metadata": {},
   "source": [
    "# API dati.gov.it"
   ]
  },
  {
   "cell_type": "code",
   "execution_count": 21,
   "metadata": {},
   "outputs": [],
   "source": [
    "# import libraries\n",
    "import pandas as pd\n",
    "import numpy as np\n",
    "import HTMLParser\n",
    "import datetime"
   ]
  },
  {
   "cell_type": "markdown",
   "metadata": {},
   "source": [
    "## Lista dei Dataset Pubblicati sul sito dati.gov.it"
   ]
  },
  {
   "cell_type": "code",
   "execution_count": 3,
   "metadata": {},
   "outputs": [
    {
     "data": {
      "text/plain": [
       "18284"
      ]
     },
     "execution_count": 3,
     "metadata": {},
     "output_type": "execute_result"
    }
   ],
   "source": [
    "# Recupera la lista degli Open Data\n",
    "url_list = 'http://www.dati.gov.it/api/3/action/package_list'\n",
    "df_list = pd.read_json(url_list)\n",
    "# Numero di dataset\n",
    "df_list['result'].count()"
   ]
  },
  {
   "cell_type": "markdown",
   "metadata": {},
   "source": [
    "## Dataset dei Metadati"
   ]
  },
  {
   "cell_type": "code",
   "execution_count": 26,
   "metadata": {},
   "outputs": [
    {
     "data": {
      "text/plain": [
       "u'2014-12-17T11:47:19+01:00'"
      ]
     },
     "execution_count": 26,
     "metadata": {},
     "output_type": "execute_result"
    }
   ],
   "source": [
    "url_test = 'http://www.dati.gov.it/api/3/action/package_show?id=organico-comune-bari'\n",
    "df_meta = pd.read_json(url_test)\n",
    "df_meta['result']['metadata_modified']"
   ]
  },
  {
   "cell_type": "code",
   "execution_count": 29,
   "metadata": {},
   "outputs": [
    {
     "data": {
      "text/plain": [
       "u'2014-12-17'"
      ]
     },
     "execution_count": 29,
     "metadata": {},
     "output_type": "execute_result"
    }
   ],
   "source": [
    "df_meta['result']['metadata_modified'][0:10]"
   ]
  },
  {
   "cell_type": "code",
   "execution_count": 30,
   "metadata": {},
   "outputs": [],
   "source": [
    "def crea_df_metadato(df_name):\n",
    "    url_meta = 'http://www.dati.gov.it/api/3/action/package_show?id='+df_name\n",
    "    d = {}\n",
    "    try:\n",
    "        df_meta = pd.read_json(url_meta)\n",
    "        d['ds_name']=df_name\n",
    "        d['ds_title'] = df_meta['result']['title']\n",
    "        d['ds_id'] = df_meta['result']['id']\n",
    "        try:\n",
    "            d['ds_license'] = df_meta['result']['license_id']\n",
    "        except:\n",
    "            d['ds_license'] = np.nan\n",
    "        d['_catalog_parent_name']=df_meta['result']['_catalog_parent_name']\n",
    "        d['ultima_modifica']=df_meta['result']['metadata_modified'][0:10]\n",
    "        try:\n",
    "            d['gruppo'] = df_meta['result']['groups'][0]['display_name']\n",
    "        except:\n",
    "            d['gruppo'] = np.nan\n",
    "        try:\n",
    "            d['note'] = df_meta['result']['notes']\n",
    "        except:\n",
    "            d['note'] = np.nan\n",
    "        try:\n",
    "            d['url']=df_meta['result']['resources'][-1]['url']\n",
    "            d['mymtype']=df_meta['result']['resources'][-1]['mimetype']\n",
    "        except:\n",
    "            d['url'] = np.nan\n",
    "            d['mymtype'] = np.nan\n",
    "    except:\n",
    "        d['ds_name']=df_name\n",
    "        d['ds_title'] = np.nan\n",
    "        d['ds_id'] = np.nan\n",
    "        d['ds_license'] = np.nan\n",
    "        d['_catalog_parent_name']=np.nan\n",
    "        d['ultima_modifica'] = np.nan\n",
    "        d['gruppo'] = np.nan\n",
    "        d['note'] = np.nan\n",
    "        d['url'] = np.nan\n",
    "        d['mymtype'] = np.nan\n",
    "    return d"
   ]
  },
  {
   "cell_type": "code",
   "execution_count": 31,
   "metadata": {},
   "outputs": [],
   "source": [
    "def crea_df_metadati_all(df_list):\n",
    "    l = []\n",
    "    for index, row in df_list.iterrows():\n",
    "        l.append(crea_df_metadato(row['result']))\n",
    "    df = pd.DataFrame.from_dict(l)\n",
    "    return df"
   ]
  },
  {
   "cell_type": "code",
   "execution_count": 38,
   "metadata": {},
   "outputs": [],
   "source": [
    "#df_list_test = df_list[0:10]\n",
    "df_list_test = df_list[df_list['result']=='anticorruzione-2013']"
   ]
  },
  {
   "cell_type": "code",
   "execution_count": 39,
   "metadata": {},
   "outputs": [],
   "source": [
    "df = crea_df_metadati_all(df_list_test)\n",
    "cols = ['ds_title','_catalog_parent_name','gruppo','note','ultima_modifica',\n",
    "       'ds_name','ds_id','ds_license','url','mymtype']\n",
    "df = df[cols]"
   ]
  },
  {
   "cell_type": "code",
   "execution_count": 40,
   "metadata": {},
   "outputs": [
    {
     "data": {
      "text/html": [
       "<div>\n",
       "<style>\n",
       "    .dataframe thead tr:only-child th {\n",
       "        text-align: right;\n",
       "    }\n",
       "\n",
       "    .dataframe thead th {\n",
       "        text-align: left;\n",
       "    }\n",
       "\n",
       "    .dataframe tbody tr th {\n",
       "        vertical-align: top;\n",
       "    }\n",
       "</style>\n",
       "<table border=\"1\" class=\"dataframe\">\n",
       "  <thead>\n",
       "    <tr style=\"text-align: right;\">\n",
       "      <th></th>\n",
       "      <th>ds_title</th>\n",
       "      <th>_catalog_parent_name</th>\n",
       "      <th>gruppo</th>\n",
       "      <th>note</th>\n",
       "      <th>ultima_modifica</th>\n",
       "      <th>ds_name</th>\n",
       "      <th>ds_id</th>\n",
       "      <th>ds_license</th>\n",
       "      <th>url</th>\n",
       "      <th>mymtype</th>\n",
       "    </tr>\n",
       "  </thead>\n",
       "  <tbody>\n",
       "    <tr>\n",
       "      <th>0</th>\n",
       "      <td>Anticorruzione 2013</td>\n",
       "      <td>Comune di Bari</td>\n",
       "      <td>NaN</td>\n",
       "      <td>&lt;p&gt;Pubblicazione Dataset informazioni anticorr...</td>\n",
       "      <td>2014-12-17</td>\n",
       "      <td>anticorruzione-2013</td>\n",
       "      <td>6c00bf33-1fa2-47b5-90de-14f400da7e87</td>\n",
       "      <td>CC0 1.0</td>\n",
       "      <td>http://opendata.comune.bari.it/dataset/6c00bf3...</td>\n",
       "      <td>csv</td>\n",
       "    </tr>\n",
       "  </tbody>\n",
       "</table>\n",
       "</div>"
      ],
      "text/plain": [
       "              ds_title _catalog_parent_name  gruppo  \\\n",
       "0  Anticorruzione 2013       Comune di Bari     NaN   \n",
       "\n",
       "                                                note ultima_modifica  \\\n",
       "0  <p>Pubblicazione Dataset informazioni anticorr...      2014-12-17   \n",
       "\n",
       "               ds_name                                 ds_id ds_license  \\\n",
       "0  anticorruzione-2013  6c00bf33-1fa2-47b5-90de-14f400da7e87    CC0 1.0   \n",
       "\n",
       "                                                 url mymtype  \n",
       "0  http://opendata.comune.bari.it/dataset/6c00bf3...     csv  "
      ]
     },
     "execution_count": 40,
     "metadata": {},
     "output_type": "execute_result"
    }
   ],
   "source": [
    "df.head(2)"
   ]
  },
  {
   "cell_type": "code",
   "execution_count": 42,
   "metadata": {},
   "outputs": [],
   "source": [
    "now = datetime.datetime.now()\n",
    "dt = now.strftime(\"%Y-%m-%d\")\n",
    "name_file = dt+'_df_metadati_pa.csv'"
   ]
  },
  {
   "cell_type": "code",
   "execution_count": 43,
   "metadata": {},
   "outputs": [],
   "source": [
    "df.to_csv(path_or_buf=name_file, sep=';')"
   ]
  },
  {
   "cell_type": "markdown",
   "metadata": {},
   "source": [
    "## Get Dataset from Url"
   ]
  },
  {
   "cell_type": "code",
   "execution_count": 158,
   "metadata": {},
   "outputs": [],
   "source": [
    "df = pd.read_csv(r['url'])"
   ]
  },
  {
   "cell_type": "code",
   "execution_count": 159,
   "metadata": {},
   "outputs": [
    {
     "data": {
      "text/html": [
       "<div>\n",
       "<table border=\"1\" class=\"dataframe\">\n",
       "  <thead>\n",
       "    <tr style=\"text-align: right;\">\n",
       "      <th></th>\n",
       "      <th>cognome</th>\n",
       "      <th>nome</th>\n",
       "      <th>UFFICIO</th>\n",
       "      <th>PROFILO</th>\n",
       "    </tr>\n",
       "  </thead>\n",
       "  <tbody>\n",
       "    <tr>\n",
       "      <th>0</th>\n",
       "      <td>ABBATANTUONO</td>\n",
       "      <td>VITO</td>\n",
       "      <td>3^Circoscrizione</td>\n",
       "      <td>Dirigente Amministrativo</td>\n",
       "    </tr>\n",
       "    <tr>\n",
       "      <th>1</th>\n",
       "      <td>ABBATICCHIO</td>\n",
       "      <td>ROBERTO</td>\n",
       "      <td>Segreteria Generale-Informazioni</td>\n",
       "      <td>Esecutore Informatore-Notificatore</td>\n",
       "    </tr>\n",
       "  </tbody>\n",
       "</table>\n",
       "</div>"
      ],
      "text/plain": [
       "        cognome     nome                           UFFICIO  \\\n",
       "0  ABBATANTUONO     VITO                  3^Circoscrizione   \n",
       "1   ABBATICCHIO  ROBERTO  Segreteria Generale-Informazioni   \n",
       "\n",
       "                              PROFILO  \n",
       "0            Dirigente Amministrativo  \n",
       "1  Esecutore Informatore-Notificatore  "
      ]
     },
     "execution_count": 159,
     "metadata": {},
     "output_type": "execute_result"
    }
   ],
   "source": [
    "df.head(2)"
   ]
  }
 ],
 "metadata": {
  "anaconda-cloud": {},
  "kernelspec": {
   "display_name": "Python 2",
   "language": "python",
   "name": "python2"
  },
  "language_info": {
   "codemirror_mode": {
    "name": "ipython",
    "version": 2
   },
   "file_extension": ".py",
   "mimetype": "text/x-python",
   "name": "python",
   "nbconvert_exporter": "python",
   "pygments_lexer": "ipython2",
   "version": "2.7.9"
  }
 },
 "nbformat": 4,
 "nbformat_minor": 2
}
